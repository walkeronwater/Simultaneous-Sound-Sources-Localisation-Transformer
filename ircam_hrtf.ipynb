{
 "cells": [
  {
   "cell_type": "code",
   "execution_count": 1,
   "metadata": {},
   "outputs": [],
   "source": [
    "%matplotlib inline"
   ]
  },
  {
   "cell_type": "markdown",
   "metadata": {},
   "source": [
    "\n",
    "HRTFs\n",
    "-----\n",
    "Example showing the use of HRTFs in Brian hears. Note that you will need to\n",
    "download the `.IRCAM_LISTEN` database and set the IRCAM_LISTEN environment variable to point to the location\n",
    "where you saved it.\n",
    "\n"
   ]
  },
  {
   "cell_type": "code",
   "execution_count": 2,
   "metadata": {},
   "outputs": [
    {
     "ename": "ValueError",
     "evalue": "You need to provide a directory for the IRCAM LISTEN database, or set the environment variable IRCAM_LISTEN to point to it.",
     "output_type": "error",
     "traceback": [
      "\u001b[1;31m---------------------------------------------------------------------------\u001b[0m",
      "\u001b[1;31mValueError\u001b[0m                                Traceback (most recent call last)",
      "\u001b[1;32m<ipython-input-2-e3a57e7ea389>\u001b[0m in \u001b[0;36m<module>\u001b[1;34m\u001b[0m\n\u001b[0;32m      2\u001b[0m \u001b[1;32mfrom\u001b[0m \u001b[0mbrian2hears\u001b[0m \u001b[1;32mimport\u001b[0m \u001b[1;33m*\u001b[0m\u001b[1;33m\u001b[0m\u001b[1;33m\u001b[0m\u001b[0m\n\u001b[0;32m      3\u001b[0m \u001b[1;31m# Load database\u001b[0m\u001b[1;33m\u001b[0m\u001b[1;33m\u001b[0m\u001b[1;33m\u001b[0m\u001b[0m\n\u001b[1;32m----> 4\u001b[1;33m \u001b[0mhrtfdb\u001b[0m \u001b[1;33m=\u001b[0m \u001b[0mIRCAM_LISTEN\u001b[0m\u001b[1;33m(\u001b[0m\u001b[1;33m)\u001b[0m\u001b[1;33m\u001b[0m\u001b[1;33m\u001b[0m\u001b[0m\n\u001b[0m\u001b[0;32m      5\u001b[0m \u001b[0mhrtfset\u001b[0m \u001b[1;33m=\u001b[0m \u001b[0mhrtfdb\u001b[0m\u001b[1;33m.\u001b[0m\u001b[0mload_subject\u001b[0m\u001b[1;33m(\u001b[0m\u001b[0mhrtfdb\u001b[0m\u001b[1;33m.\u001b[0m\u001b[0msubjects\u001b[0m\u001b[1;33m[\u001b[0m\u001b[1;36m0\u001b[0m\u001b[1;33m]\u001b[0m\u001b[1;33m)\u001b[0m\u001b[1;33m\u001b[0m\u001b[1;33m\u001b[0m\u001b[0m\n\u001b[0;32m      6\u001b[0m \u001b[1;31m# Select only the horizontal plane\u001b[0m\u001b[1;33m\u001b[0m\u001b[1;33m\u001b[0m\u001b[1;33m\u001b[0m\u001b[0m\n",
      "\u001b[1;32mc:\\users\\mynam\\appdata\\local\\programs\\python\\python38\\lib\\site-packages\\brian2hears\\hrtf\\ircam.py\u001b[0m in \u001b[0;36m__init__\u001b[1;34m(self, basedir, compensated, samplerate)\u001b[0m\n\u001b[0;32m     47\u001b[0m             \u001b[0mbasedir\u001b[0m \u001b[1;33m=\u001b[0m \u001b[0mos\u001b[0m\u001b[1;33m.\u001b[0m\u001b[0mgetenv\u001b[0m\u001b[1;33m(\u001b[0m\u001b[1;34m'IRCAM_LISTEN'\u001b[0m\u001b[1;33m)\u001b[0m\u001b[1;33m\u001b[0m\u001b[1;33m\u001b[0m\u001b[0m\n\u001b[0;32m     48\u001b[0m         \u001b[1;32mif\u001b[0m \u001b[0mbasedir\u001b[0m \u001b[1;32mis\u001b[0m \u001b[1;32mNone\u001b[0m\u001b[1;33m:\u001b[0m\u001b[1;33m\u001b[0m\u001b[1;33m\u001b[0m\u001b[0m\n\u001b[1;32m---> 49\u001b[1;33m             raise ValueError(\"You need to provide a directory for the IRCAM LISTEN database, or set the environment \"\n\u001b[0m\u001b[0;32m     50\u001b[0m                              \"variable IRCAM_LISTEN to point to it.\")\n\u001b[0;32m     51\u001b[0m         \u001b[1;32mif\u001b[0m \u001b[1;32mnot\u001b[0m \u001b[0misinstance\u001b[0m\u001b[1;33m(\u001b[0m\u001b[0mbasedir\u001b[0m\u001b[1;33m,\u001b[0m \u001b[1;33m(\u001b[0m\u001b[0mlist\u001b[0m\u001b[1;33m,\u001b[0m \u001b[0mtuple\u001b[0m\u001b[1;33m)\u001b[0m\u001b[1;33m)\u001b[0m\u001b[1;33m:\u001b[0m\u001b[1;33m\u001b[0m\u001b[1;33m\u001b[0m\u001b[0m\n",
      "\u001b[1;31mValueError\u001b[0m: You need to provide a directory for the IRCAM LISTEN database, or set the environment variable IRCAM_LISTEN to point to it."
     ]
    }
   ],
   "source": [
    "from brian2 import *\n",
    "from brian2hears import *\n",
    "# Load database\n",
    "hrtfdb = IRCAM_LISTEN()\n",
    "hrtfset = hrtfdb.load_subject(hrtfdb.subjects[0])\n",
    "# Select only the horizontal plane\n",
    "hrtfset = hrtfset.subset(lambda elev: elev==0)\n",
    "# Set up a filterbank\n",
    "sound = whitenoise(10*ms)\n",
    "fb = hrtfset.filterbank(sound)\n",
    "# Extract the filtered response and plot\n",
    "img = fb.process().T\n",
    "img_left = img[:img.shape[0]//2, :]\n",
    "img_right = img[img.shape[0]//2:, :]\n",
    "subplot(121)\n",
    "imshow(img_left, origin='lower left', aspect='auto',\n",
    "       extent=(0, sound.duration/ms, 0, 360))\n",
    "xlabel('Time (ms)')\n",
    "ylabel('Azimuth')\n",
    "title('Left ear')\n",
    "subplot(122)\n",
    "imshow(img_right, origin='lower left', aspect='auto',\n",
    "       extent=(0, sound.duration/ms, 0, 360))\n",
    "xlabel('Time (ms)')\n",
    "ylabel('Azimuth')\n",
    "title('Right ear')\n",
    "show()"
   ]
  },
  {
   "cell_type": "code",
   "execution_count": null,
   "metadata": {},
   "outputs": [],
   "source": []
  }
 ],
 "metadata": {
  "kernelspec": {
   "display_name": "Python 3",
   "language": "python",
   "name": "python3"
  },
  "language_info": {
   "codemirror_mode": {
    "name": "ipython",
    "version": 3
   },
   "file_extension": ".py",
   "mimetype": "text/x-python",
   "name": "python",
   "nbconvert_exporter": "python",
   "pygments_lexer": "ipython3",
   "version": "3.8.1"
  }
 },
 "nbformat": 4,
 "nbformat_minor": 1
}
