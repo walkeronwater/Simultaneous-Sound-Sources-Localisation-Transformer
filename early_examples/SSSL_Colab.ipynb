{
  "nbformat": 4,
  "nbformat_minor": 0,
  "metadata": {
    "colab": {
      "name": "SSSL_Colab.ipynb",
      "provenance": [],
      "collapsed_sections": [
        "t3u-T3E_Id9K",
        "NlIzFtlTId9S",
        "u6O8ZsZ9Id9U",
        "pVBBvbOe3htZ",
        "76dwTXYjId9i",
        "qVaR3Uuy7vPV"
      ],
      "toc_visible": true,
      "history_visible": true,
      "machine_shape": "hm"
    },
    "kernelspec": {
      "name": "python3",
      "display_name": "Python 3"
    },
    "language_info": {
      "name": "python"
    },
    "accelerator": "GPU"
  },
  "cells": [
    {
      "cell_type": "code",
      "metadata": {
        "id": "1bemuWIUdHkB"
      },
      "source": [
        "isGoogleDrive = True"
      ],
      "execution_count": null,
      "outputs": []
    },
    {
      "cell_type": "code",
      "metadata": {
        "id": "4IRDutO6U5-d"
      },
      "source": [
        "# lib dependency\n",
        "import soundfile as sf\n",
        "from scipy import signal\n",
        "# import random"
      ],
      "execution_count": null,
      "outputs": []
    },
    {
      "cell_type": "markdown",
      "metadata": {
        "id": "t3u-T3E_Id9K"
      },
      "source": [
        "### Set directories"
      ]
    },
    {
      "cell_type": "code",
      "metadata": {
        "id": "KaT72KyAKzJs",
        "colab": {
          "base_uri": "https://localhost:8080/"
        },
        "outputId": "58823bb9-4399-43d9-ed80-3c671440d306"
      },
      "source": [
        "if isGoogleDrive:\n",
        "    from google.colab import drive\n",
        "    drive.mount('/content/drive')"
      ],
      "execution_count": null,
      "outputs": [
        {
          "output_type": "stream",
          "text": [
            "Drive already mounted at /content/drive; to attempt to forcibly remount, call drive.mount(\"/content/drive\", force_remount=True).\n"
          ],
          "name": "stdout"
        }
      ]
    },
    {
      "cell_type": "code",
      "metadata": {
        "id": "Q2F08yULK7Ae"
      },
      "source": [
        ""
      ],
      "execution_count": null,
      "outputs": []
    },
    {
      "cell_type": "code",
      "metadata": {
        "id": "B87I4BOAId9O",
        "colab": {
          "base_uri": "https://localhost:8080/"
        },
        "outputId": "516beb30-d8c1-43bc-91ec-08a72a4f3f18"
      },
      "source": [
        "import os\n",
        "import re\n",
        "from glob import glob\n",
        "path = \"./drive/MyDrive/SSSL/HRTF/IRC_*\"\n",
        "names = []\n",
        "names += glob(path)\n",
        "print(names[0])\n",
        "\n",
        "splitnames = [os.path.split(name) for name in names]\n",
        "print(len(splitnames))\n",
        "\n",
        "p = re.compile('IRC_\\d{4,4}')\n",
        "print(p)\n",
        "\n",
        "subjects = [int(name[4:8]) for base, name in splitnames \n",
        "                         if not (p.match(name[-8:]) is None)]\n",
        "print(subjects)"
      ],
      "execution_count": null,
      "outputs": [
        {
          "output_type": "stream",
          "text": [
            "./drive/MyDrive/SSSL/HRTF/IRC_1002\n",
            "1\n",
            "re.compile('IRC_\\\\d{4,4}')\n",
            "[1002]\n"
          ],
          "name": "stdout"
        }
      ]
    },
    {
      "cell_type": "markdown",
      "metadata": {
        "id": "NlIzFtlTId9S"
      },
      "source": [
        "### load HRIRs from .mat files"
      ]
    },
    {
      "cell_type": "code",
      "metadata": {
        "id": "wb8V8wiAId9T"
      },
      "source": [
        "from scipy.io import loadmat\n",
        "\n",
        "k = 0\n",
        "subject = subjects[k]\n",
        "\n",
        "for k in range(len(names)):\n",
        "    subject = subjects[k]\n",
        "    # filename = os.path.join(names[k], 'IRC_' + str(subject))\n",
        "    filename = os.path.join(names[k], 'COMPENSATED/MAT/HRIR/IRC_' + str(subject) + '_C_HRIR.mat')\n",
        "#     print(filename)"
      ],
      "execution_count": null,
      "outputs": []
    },
    {
      "cell_type": "markdown",
      "metadata": {
        "id": "u6O8ZsZ9Id9U"
      },
      "source": [
        "### Create labels (elevation, azimuth)"
      ]
    },
    {
      "cell_type": "code",
      "metadata": {
        "id": "IsQWGV4sId9V",
        "colab": {
          "base_uri": "https://localhost:8080/",
          "height": 614
        },
        "outputId": "d4c520e3-02e5-4ff8-9be7-c699858fe0b8"
      },
      "source": [
        "import numpy as np\n",
        "import matplotlib.pyplot as plt \n",
        "\n",
        "m = loadmat(filename, struct_as_record=True)\n",
        "print(m.keys())\n",
        "print(m['l_eq_hrir_S'].dtype)\n",
        "\n",
        "l, r = m['l_eq_hrir_S'], m['r_eq_hrir_S']\n",
        "hrirSet_l = l['content_m'][0][0]\n",
        "hrirSet_r = r['content_m'][0][0]\n",
        "elev = l['elev_v'][0][0]\n",
        "azim = l['azim_v'][0][0]\n",
        "\n",
        "locLabel = np.hstack((elev, azim))\n",
        "print(\"locLabel shape: \", locLabel.shape, \" (order: elev, azim)\")\n",
        "# print(locLabel[0:5])\n",
        "\n",
        "# 0: left-ear 1: right-ear\n",
        "hrirSet = np.vstack((np.reshape(hrirSet_l, (1,) + hrirSet_l.shape),\n",
        "                          np.reshape(hrirSet_r, (1,) + hrirSet_r.shape)))\n",
        "hrirSet = np.transpose(hrirSet, (1,0,2))\n",
        "print(\"hrirSet shape: \", hrirSet.shape)\n",
        "\n",
        "for i in range(51,53):\n",
        "    plt.plot(hrirSet[i, 0])\n",
        "    plt.plot(hrirSet[i, 1])\n",
        "    plt.legend(['left','right'], loc='best')\n",
        "    plt.title('elevation: '+str(locLabel[i, 0])+' azimuth: '+str(locLabel[i, 1]))\n",
        "    plt.show()\n"
      ],
      "execution_count": null,
      "outputs": [
        {
          "output_type": "stream",
          "text": [
            "dict_keys(['__header__', '__version__', '__globals__', 'r_eq_hrir_S', 'l_eq_hrir_S'])\n",
            "[('elev_v', 'O'), ('azim_v', 'O'), ('type_s', 'O'), ('sampling_hz', 'O'), ('content_m', 'O')]\n",
            "locLabel shape:  (187, 2)  (order: elev, azim)\n",
            "hrirSet shape:  (187, 2, 512)\n"
          ],
          "name": "stdout"
        },
        {
          "output_type": "display_data",
          "data": {
            "image/png": "[encoded data removed]",
            "text/plain": [
              "<Figure size 432x288 with 1 Axes>"
            ]
          },
          "metadata": {
            "tags": [],
            "needs_background": "light"
          }
        },
        {
          "output_type": "display_data",
          "data": {
            "image/png": "[encoded data removed]",
            "text/plain": [
              "<Figure size 432x288 with 1 Axes>"
            ]
          },
          "metadata": {
            "tags": [],
            "needs_background": "light"
          }
        }
      ]
    },
    {
      "cell_type": "code",
      "metadata": {
        "id": "wPzTl1AQdWL2"
      },
      "source": [
        ""
      ],
      "execution_count": null,
      "outputs": []
    },
    {
      "cell_type": "markdown",
      "metadata": {
        "id": "0q7Hrg3kId9X"
      },
      "source": [
        "### Convolve audio signals with left-ear and right-ear HRIR\n",
        "\n",
        "Input:\n",
        "\n",
        "- mono-track audio signal\n",
        "\n",
        "Output:\n",
        "\n",
        "- left-ear and right-ear time sequence pairs"
      ]
    },
    {
      "cell_type": "code",
      "metadata": {
        "colab": {
          "base_uri": "https://localhost:8080/"
        },
        "id": "C7nJ7UuuJU7c",
        "outputId": "eb44b632-efb6-4a6c-815b-6633384893a4"
      },
      "source": [
        "# method to generate audio slices for a given length requirement\n",
        "# with a hardcoded power threshold\n",
        "def audioSliceGenerator(audioSeq, sampleRate, lenSliceInSec):\n",
        "    lenAudio = audioSeq.size\n",
        "    lenSlice = round(sampleRate * lenSliceInSec)\n",
        "    # audioSliceList = [range(lenSlice*i, lenSlice *(i+1)) for i in range(lenAudio//lenSlice)]\n",
        "    # print(len(audioSliceList))\n",
        "    # print(lenAudio//lenSlice)\n",
        "\n",
        "    audioSliceList = []\n",
        "    # threshold for spectrum power\n",
        "    for i in range(lenAudio//lenSlice):\n",
        "        sliced = audioSeq[lenSlice*i:lenSlice *(i+1)]\n",
        "        # print(\"slice power\", np.mean(np.power(sliced, 2)))\n",
        "        if np.mean(np.power(sliced, 2)) > 0.01:\n",
        "            audioSliceList.append(range(lenSlice*i, lenSlice *(i+1)))\n",
        "\n",
        "    return audioSliceList\n",
        "\n",
        "\n",
        "basedir = os.getcwd()\n",
        "print(basedir)\n",
        "# path = glob(os.path.join(basedir, \"/drive/MyDrive/SSSL/audio/*\"))\n",
        "path = glob(os.path.join(\"/content/drive/MyDrive/SSSL/audio/*\"))\n",
        "Naudio = len(path)\n",
        "print(path)\n",
        "\n",
        "data, sampleRate = sf.read(path[1])\n",
        "print(data.shape)\n",
        "temp2 = audioSliceGenerator(data, sampleRate, 0.5)\n",
        "print(len(temp2))"
      ],
      "execution_count": null,
      "outputs": [
        {
          "output_type": "stream",
          "text": [
            "/content\n",
            "['/content/drive/MyDrive/SSSL/audio/music-fma-0001.wav', '/content/drive/MyDrive/SSSL/audio/music-fma-0002.wav', '/content/drive/MyDrive/SSSL/audio/music-fma-0003.wav', '/content/drive/MyDrive/SSSL/audio/music-fma-0004.wav', '/content/drive/MyDrive/SSSL/audio/music-fma-0005.wav', '/content/drive/MyDrive/SSSL/audio/music-fma-0006.wav', '/content/drive/MyDrive/SSSL/audio/music-fma-0008.wav', '/content/drive/MyDrive/SSSL/audio/music-fma-0007.wav', '/content/drive/MyDrive/SSSL/audio/music-fma-0009.wav']\n",
            "(3992764,)\n",
            "471\n"
          ],
          "name": "stdout"
        }
      ]
    },
    {
      "cell_type": "code",
      "metadata": {
        "scrolled": true,
        "id": "5-2JAqTIId9Y",
        "colab": {
          "base_uri": "https://localhost:8080/"
        },
        "outputId": "7b7b267b-b68d-4d7c-f161-0ad41eea9d74"
      },
      "source": [
        "import soundfile as sf\n",
        "\n",
        "basedir = os.getcwd()\n",
        "print(basedir)\n",
        "# path = glob(os.path.join(basedir, \"/drive/MyDrive/SSSL/audio/*\"))\n",
        "path = glob(os.path.join(\"/content/drive/MyDrive/SSSL/audio/*\"))\n",
        "Naudio = len(path)\n",
        "print(path)\n",
        "\n",
        "# left-ear and right-ear signal pairs\n",
        "sigPairList = []\n",
        "audioIndex = -1\n",
        "Nloc = 23 #hrirSet.shape[1]\n",
        "lenHRIR = hrirSet.shape[-1]\n",
        "valSNR = 100\n",
        "lenSliceInSec = 1\n",
        "\n",
        "for audioPath in path:\n",
        "    audioIndex += 1\n",
        "    audioData, sampleRate = sf.read(audioPath)\n",
        "    print(data.shape)\n",
        "    print(\"Audio sample rate: \", sampleRate)\n",
        "\n",
        "    audioSliceList = audioSliceGenerator(audioData, sampleRate, lenSliceInSec)\n",
        "\n",
        "    sliceIndex = -1\n",
        "    Nsamples = len(audioSliceList)\n",
        "    print(\"Number of samples: \",Nsamples)\n",
        "    lenTruncate = len(audioSliceList[0])\n",
        "    lenAfterConv = lenHRIR+lenTruncate-1\n",
        "    \n",
        "    sigPair = np.zeros((Nsamples, Nloc, 2, lenAfterConv))\n",
        "    print(\"Initialise sigPair\", sigPair.shape)\n",
        "\n",
        "    for audioSlice in audioSliceList:\n",
        "        sliceIndex += 1\n",
        "        audio = audioData[audioSlice]\n",
        "        lenAfterConv = lenHRIR+audio.size-1\n",
        "        # print(len(audioSlice))\n",
        "        # shape after convolution: 512 + audio length - 1\n",
        "\n",
        "        # hrirSet is of shape (187, 2, 512)\n",
        "        for locIndex in range(Nloc): \n",
        "            sigLeft = np.convolve(audio, hrirSet[locIndex, 0])\n",
        "            sigRight = np.convolve(audio, hrirSet[locIndex, 1])\n",
        "\n",
        "            sigPair[sliceIndex, locIndex, 0] = sigLeft.reshape(1, sigLeft.shape[0])\n",
        "            sigPair[sliceIndex, locIndex, 1] = sigRight.reshape(1, sigRight.shape[0])\n",
        "\n",
        "    sigPairList.append(sigPair)\n"
      ],
      "execution_count": null,
      "outputs": [
        {
          "output_type": "stream",
          "text": [
            "/content\n",
            "['/content/drive/MyDrive/SSSL/audio/music-fma-0001.wav', '/content/drive/MyDrive/SSSL/audio/music-fma-0002.wav', '/content/drive/MyDrive/SSSL/audio/music-fma-0003.wav', '/content/drive/MyDrive/SSSL/audio/music-fma-0004.wav', '/content/drive/MyDrive/SSSL/audio/music-fma-0005.wav', '/content/drive/MyDrive/SSSL/audio/music-fma-0006.wav', '/content/drive/MyDrive/SSSL/audio/music-fma-0008.wav', '/content/drive/MyDrive/SSSL/audio/music-fma-0007.wav', '/content/drive/MyDrive/SSSL/audio/music-fma-0009.wav']\n",
            "(3992764,)\n",
            "Audio sample rate:  16000\n",
            "Number of samples:  210\n",
            "Initialise sigPair (210, 23, 2, 16511)\n",
            "(3992764,)\n",
            "Audio sample rate:  16000\n",
            "Number of samples:  236\n",
            "Initialise sigPair (236, 23, 2, 16511)\n",
            "(3992764,)\n",
            "Audio sample rate:  16000\n",
            "Number of samples:  311\n",
            "Initialise sigPair (311, 23, 2, 16511)\n",
            "(3992764,)\n",
            "Audio sample rate:  16000\n",
            "Number of samples:  294\n",
            "Initialise sigPair (294, 23, 2, 16511)\n",
            "(3992764,)\n",
            "Audio sample rate:  16000\n",
            "Number of samples:  269\n",
            "Initialise sigPair (269, 23, 2, 16511)\n",
            "(3992764,)\n",
            "Audio sample rate:  16000\n",
            "Number of samples:  269\n",
            "Initialise sigPair (269, 23, 2, 16511)\n",
            "(3992764,)\n",
            "Audio sample rate:  16000\n",
            "Number of samples:  174\n",
            "Initialise sigPair (174, 23, 2, 16511)\n",
            "(3992764,)\n",
            "Audio sample rate:  16000\n",
            "Number of samples:  280\n",
            "Initialise sigPair (280, 23, 2, 16511)\n",
            "(3992764,)\n",
            "Audio sample rate:  16000\n",
            "Number of samples:  352\n",
            "Initialise sigPair (352, 23, 2, 16511)\n"
          ],
          "name": "stdout"
        }
      ]
    },
    {
      "cell_type": "code",
      "metadata": {
        "colab": {
          "base_uri": "https://localhost:8080/",
          "height": 594
        },
        "id": "kgy93jZLouY6",
        "outputId": "6903daff-635c-40e9-ea25-e505f21c79c4"
      },
      "source": [
        "print(len(sigPairList))\n",
        "print(sigPairList[0].shape)\n",
        "isPlot = True\n",
        "if isPlot:\n",
        "    plt.plot(sigPairList[0][0,0,0])\n",
        "    plt.title(\"signal\")\n",
        "    plt.show()\n",
        "\n",
        "    # plt.plot(noiseRight[0])\n",
        "    # plt.title(\"noise\")\n",
        "    # plt.show()\n",
        "\n",
        "    f, t, Zxx = signal.stft(sigPairList[0][0,0,0], sampleRate, nperseg=1023)\n",
        "    plt.pcolormesh(t, f, np.abs(Zxx), shading='gouraud')\n",
        "    plt.title('STFT Magnitude of signal')\n",
        "    plt.ylabel('Frequency [Hz]')\n",
        "    plt.xlabel('Time [sec]')\n",
        "    plt.show()\n",
        "\n",
        "    # f, t, Zxx = signal.stft(noiseRight[0], sampleRate, nperseg=1023)\n",
        "    # plt.pcolormesh(t, f, np.abs(Zxx), shading='gouraud')\n",
        "    # plt.title('STFT Magnitude of noise')\n",
        "    # plt.ylabel('Frequency [Hz]')\n",
        "    # plt.xlabel('Time [sec]')\n",
        "    # plt.show()\n"
      ],
      "execution_count": null,
      "outputs": [
        {
          "output_type": "stream",
          "text": [
            "9\n",
            "(210, 23, 2, 16511)\n"
          ],
          "name": "stdout"
        },
        {
          "output_type": "display_data",
          "data": {
            "image/png": "[encoded data removed]",
            "text/plain": [
              "<Figure size 432x288 with 1 Axes>"
            ]
          },
          "metadata": {
            "tags": [],
            "needs_background": "light"
          }
        },
        {
          "output_type": "display_data",
          "data": {
            "image/png": "[encoded data removed]",
            "text/plain": [
              "<Figure size 432x288 with 1 Axes>"
            ]
          },
          "metadata": {
            "tags": [],
            "needs_background": "light"
          }
        }
      ]
    },
    {
      "cell_type": "markdown",
      "metadata": {
        "id": "pVBBvbOe3htZ"
      },
      "source": [
        "#### Store arrays as files"
      ]
    },
    {
      "cell_type": "code",
      "metadata": {
        "id": "KgqXpt5BypvL"
      },
      "source": [
        "# import h5py\n",
        "# h5f = h5py.File('/content/drive/My Drive/data.h5', 'w')\n",
        "# h5f.create_dataset('dataset_1', data=sigPairList[audioIndex])\n",
        "\n",
        "# with h5py.File('/content/drive/My Drive/data.h5', 'w') as hf:\n",
        "#     hf.create_dataset(\"dataset_1\",  data=sigPairList[audioIndex])\n",
        "\n",
        "for audioIndex in range(len(sigPairList)):\n",
        "    fileName=\"/content/drive/MyDrive/SSSL/npy/array\"+str(audioIndex)+\".npy\"\n",
        "    with open(fileName, 'wb') as f:\n",
        "        np.save(f, sigPairList[audioIndex])\n",
        "\n",
        "# fileName=\"/content/drive/MyDrive/array7.npy\"\n",
        "# with open(fileName, 'wb') as f:\n",
        "#     np.save(f, sigPairList[7])\n"
      ],
      "execution_count": null,
      "outputs": []
    },
    {
      "cell_type": "markdown",
      "metadata": {
        "id": "R2usF9ViiSjF"
      },
      "source": [
        "#### Test: load from saved .npy files"
      ]
    },
    {
      "cell_type": "code",
      "metadata": {
        "colab": {
          "base_uri": "https://localhost:8080/"
        },
        "id": "kZYF3XYNgauw",
        "outputId": "558a4747-6721-4bf8-a26c-8a317f974f32"
      },
      "source": [
        "import numpy as np\n",
        "sigPair = np.load('/content/drive/MyDrive/SSSL/npy/array0.npy')\n",
        "print(sigPair.shape)\n",
        "sigPairList = []\n",
        "sigPairList.append(sigPair)\n",
        "# del sigPair"
      ],
      "execution_count": null,
      "outputs": [
        {
          "output_type": "stream",
          "text": [
            "(210, 23, 2, 16511)\n"
          ],
          "name": "stdout"
        }
      ]
    },
    {
      "cell_type": "code",
      "metadata": {
        "colab": {
          "base_uri": "https://localhost:8080/"
        },
        "id": "EDRHaNYQgqDc",
        "outputId": "2ee1e219-725c-4396-f9d6-dcbeb9b88101"
      },
      "source": [
        "sigPairList = []\n",
        "for i in range(0, 7):\n",
        "    sigPair = np.load('/content/drive/MyDrive/SSSL/npy/array'+str(i)+'.npy')\n",
        "    # print(type(temp))\n",
        "    print(i,' ',sigPair.shape)\n",
        "    sigPairList.append(sigPair)"
      ],
      "execution_count": null,
      "outputs": [
        {
          "output_type": "stream",
          "text": [
            "0   (210, 23, 2, 16511)\n",
            "1   (236, 23, 2, 16511)\n",
            "2   (311, 23, 2, 16511)\n",
            "3   (294, 23, 2, 16511)\n",
            "4   (269, 23, 2, 16511)\n",
            "5   (269, 23, 2, 16511)\n"
          ],
          "name": "stdout"
        }
      ]
    },
    {
      "cell_type": "code",
      "metadata": {
        "colab": {
          "base_uri": "https://localhost:8080/"
        },
        "id": "j4gkrQumWTFA",
        "outputId": "0f9054ea-2a65-463b-9b89-a2f3dd703ceb"
      },
      "source": [
        "print(sigPairList[0].shape)"
      ],
      "execution_count": null,
      "outputs": [
        {
          "output_type": "stream",
          "text": [
            "(210, 23, 2, 16511)\n"
          ],
          "name": "stdout"
        }
      ]
    },
    {
      "cell_type": "markdown",
      "metadata": {
        "id": "1sUgFSFPBKiY"
      },
      "source": [
        "### Add noise"
      ]
    },
    {
      "cell_type": "markdown",
      "metadata": {
        "id": "MnCb3__ac-62"
      },
      "source": [
        "Run when the training data is in RAM"
      ]
    },
    {
      "cell_type": "code",
      "metadata": {
        "id": "lVh7J35eC8yQ"
      },
      "source": [
        "# method to generate a sequence of noise for a given SNR\n",
        "def noiseGenerator(sigSeq, valSNR):\n",
        "    # assert debug\n",
        "    # assert (\n",
        "    #     sigSeq.shape[0] == 1\n",
        "    # ), \"Input data needs to be reshaped to (1, length of sequence)\"\n",
        "\n",
        "    sigSeqPower = 10*np.log10(np.mean(np.power(sigSeq, 2)))\n",
        "    noisePower = np.power(10, (sigSeqPower - valSNR)/10)\n",
        "    return np.random.normal(0, np.sqrt(noisePower), sigSeq.shape)\n"
      ],
      "execution_count": null,
      "outputs": []
    },
    {
      "cell_type": "code",
      "metadata": {
        "colab": {
          "base_uri": "https://localhost:8080/"
        },
        "id": "3HRobFkTBYoJ",
        "outputId": "06b19c45-936e-4c18-c1af-b7127d87703d"
      },
      "source": [
        "print(len(sigPairList))\n",
        "print(sigPairList[0].shape)\n",
        "\n",
        "def addNoise(sigPair):\n",
        "    valSNR = 1\n",
        "    # loop through all training examples\n",
        "    for i in range(sigPairList[0].shape[0]):\n",
        "        # loop through all locations\n",
        "        for locIndex in range(sigPairList[0].shape[1]):\n",
        "            noiseLeft = noiseGenerator(np.expand_dims(sigPairList[0][i,locIndex,0], axis=0), valSNR)\n",
        "            noiseRight = noiseGenerator(np.expand_dims(sigPairList[0][i,locIndex,1], axis=0), valSNR)\n",
        "\n",
        "\n",
        "\n"
      ],
      "execution_count": null,
      "outputs": [
        {
          "output_type": "stream",
          "text": [
            "1\n",
            "(436, 23, 2, 8511)\n"
          ],
          "name": "stdout"
        }
      ]
    },
    {
      "cell_type": "code",
      "metadata": {
        "id": "FRLrCGH5Lq5T"
      },
      "source": [
        "sigPair = sigPairList[0]\n",
        "del sigPairList\n",
        "sigPairList = []\n",
        "sigPairList.append(sigPair)"
      ],
      "execution_count": null,
      "outputs": []
    },
    {
      "cell_type": "markdown",
      "metadata": {
        "id": "AaH678TLId9d"
      },
      "source": [
        "### Windowed FFT\n",
        "\n",
        "Input:\n",
        "\n",
        "- left-ear and right-ear time sequences\n",
        "\n",
        "Output:\n",
        "\n",
        "- left-ear and right-ear time-varying spectra\n",
        "\n"
      ]
    },
    {
      "cell_type": "code",
      "metadata": {
        "id": "TDFIgS41Id9d",
        "colab": {
          "base_uri": "https://localhost:8080/",
          "height": 611
        },
        "outputId": "710d166f-9459-4a36-a106-fec60ebb09a3"
      },
      "source": [
        "# visualise left-ear and right-ear signal pairs and their spectrogram\n",
        "from scipy import signal\n",
        "import random\n",
        "\n",
        "print(sigPairList[0].shape)\n",
        "randomExample = 0\n",
        "randomLoc = random.randint(0, sigPairList[0].shape[1] - 1)\n",
        "plt.plot(sigPairList[0][randomExample, randomLoc, 0])\n",
        "plt.plot(sigPairList[0][randomExample, randomLoc, 1])\n",
        "plt.title('Time sequence pairs for location '+str(randomLoc))\n",
        "plt.legend(['left','right'])\n",
        "plt.show()\n",
        "\n",
        "fs = 16000 #sampleRate\n",
        "print(fs)\n",
        "\n",
        "f, t, Zxx = signal.stft(sigPairList[0][randomExample, randomLoc, 0], fs, nperseg=1023)\n",
        "print(Zxx.shape)\n",
        "\n",
        "plt.pcolormesh(t, f, np.abs(Zxx), shading='gouraud')\n",
        "plt.title('STFT Magnitude (L/R) for location '+str(randomLoc))\n",
        "plt.ylabel('Frequency [Hz]')\n",
        "plt.xlabel('Time [sec]')\n",
        "plt.show()"
      ],
      "execution_count": null,
      "outputs": [
        {
          "output_type": "stream",
          "text": [
            "(210, 23, 2, 16511)\n"
          ],
          "name": "stdout"
        },
        {
          "output_type": "display_data",
          "data": {
            "image/png": "[encoded data removed]",
            "text/plain": [
              "<Figure size 432x288 with 1 Axes>"
            ]
          },
          "metadata": {
            "tags": [],
            "needs_background": "light"
          }
        },
        {
          "output_type": "stream",
          "text": [
            "16000\n",
            "(512, 34)\n"
          ],
          "name": "stdout"
        },
        {
          "output_type": "display_data",
          "data": {
            "image/png": "[encoded data removed]",
            "text/plain": [
              "<Figure size 432x288 with 1 Axes>"
            ]
          },
          "metadata": {
            "tags": [],
            "needs_background": "light"
          }
        }
      ]
    },
    {
      "cell_type": "markdown",
      "metadata": {
        "id": "XKIhOrdMId9e"
      },
      "source": [
        "### Extract binaural cues\n",
        "\n",
        "- IPD cues (similar as ITD (ambiguous at high frequencies))\n",
        "\n",
        "  arg(S_l/S_r)\n",
        "  \n",
        "  \n",
        "- Spectral cues (essentially tells about ILD cues)\n",
        "\n",
        "  do STFT and then convert it to magnitude and phase"
      ]
    },
    {
      "cell_type": "code",
      "metadata": {
        "id": "FHwr19_bId9f",
        "colab": {
          "base_uri": "https://localhost:8080/"
        },
        "outputId": "e6d25035-f233-41e6-fc1f-47a1e90ea9cf"
      },
      "source": [
        "def cartesian2euler(val):\n",
        "    x = val.real\n",
        "    y = val.imag\n",
        "    \n",
        "    r = np.sqrt(x**2+y**2)\n",
        "\n",
        "    theta = np.arctan(\n",
        "        np.divide(y, x, where=x!=0)\n",
        "    )\n",
        "    # if x != 0:\n",
        "    #     theta = np.arctan(y/x)\n",
        "    # else:\n",
        "    #     theta = np.pi/2\n",
        "        \n",
        "    return normalise(r), normalise(theta)\n",
        "\n",
        "def calIPD(seqL, seqR):\n",
        "    temp = np.divide(seqL, seqR, out=np.zeros_like(seqL), where=seqR!=0)\n",
        "    ipd = np.arctan(np.divide(np.imag(temp), np.real(temp), out=np.zeros_like(np.real(temp)), where=np.real(temp)!=0))\n",
        "    return ipd\n",
        "\n",
        "def normalise(seq):\n",
        "    return seq/np.linalg.norm(seq)\n",
        "\n",
        "temp = np.array([[1, 2, 3],[1,2,3]])\n",
        "print(normalise(temp))"
      ],
      "execution_count": null,
      "outputs": [
        {
          "output_type": "stream",
          "text": [
            "[[0.18898224 0.37796447 0.56694671]\n",
            " [0.18898224 0.37796447 0.56694671]]\n"
          ],
          "name": "stdout"
        }
      ]
    },
    {
      "cell_type": "code",
      "metadata": {
        "colab": {
          "base_uri": "https://localhost:8080/"
        },
        "id": "57ZriVENd_5-",
        "outputId": "94e1a2bb-3135-4211-b8e3-947cff8c69f1"
      },
      "source": [
        "from scipy import signal\n",
        "import random\n",
        "\n",
        "def binauralCues(sigPair, fs, valSNR):\n",
        "    f, t, Zxx = signal.stft(sigPair[0, 0, 0], fs, nperseg=1023)\n",
        "    # spectralCues = np.zeros(sigPair.shape[:-2] + (Zxx.shape[1], Zxx.shape[0]) + (4,), dtype='float')\n",
        "    # ipdCues = np.zeros(sigPair.shape[:-2] + (Zxx.shape[1], Zxx.shape[0]), dtype='float')\n",
        "    cues = np.zeros(sigPair.shape[:-2] + (Zxx.shape[1], Zxx.shape[0]) + (5,), dtype='float')\n",
        "\n",
        "    del f, t, Zxx\n",
        "\n",
        "    for i in range(sigPair.shape[0]):\n",
        "        for locIndex in range(sigPair.shape[1]):\n",
        "            \n",
        "            f_l, t_l, Zxx_l = signal.stft(\n",
        "                sigPair[i, locIndex, 0] \n",
        "                # + noiseGenerator(sigPair[i, locIndex, 0], valSNR)\n",
        "                , fs, nperseg = 1023\n",
        "            )              \n",
        "                                          \n",
        "            f_r, t_r, Zxx_r = signal.stft(\n",
        "                sigPair[i, locIndex, 1] \n",
        "                # + noiseGenerator(sigPair[i, locIndex, 1], valSNR)\n",
        "                , fs, nperseg = 1023\n",
        "            )\n",
        "            # print(Zxx_l.shape)\n",
        "            # print(Zxx_r.shape)\n",
        "\n",
        "            r_l, theta_l = cartesian2euler(Zxx_l)\n",
        "            r_r, theta_r = cartesian2euler(Zxx_r)\n",
        "\n",
        "            # ipdCues[i, locIndex] = normalise(np.transpose(calIPD(Zxx_l, Zxx_r), (1, 0)))\n",
        "            # spectralCues[i, locIndex] = np.transpose(np.array([r_l, theta_l, r_r, theta_r]), (2, 1 ,0))\n",
        "            cues[i, locIndex] = np.concatenate(\n",
        "                (np.expand_dims(\n",
        "                    normalise(np.transpose(calIPD(Zxx_l, Zxx_r), (1, 0))), axis=-1\n",
        "                    ),\n",
        "                 np.transpose(np.array([r_l, theta_l, r_r, theta_r]), (2, 1 ,0))\n",
        "                 ),\n",
        "                 axis=-1\n",
        "            )\n",
        "    return cues\n",
        "    # return ipdCues, spectralCues\n",
        "\n",
        "print(sigPair.shape)\n",
        "cues = binauralCues(sigPair, 16000, 100)\n",
        "    "
      ],
      "execution_count": null,
      "outputs": [
        {
          "output_type": "stream",
          "text": [
            "(210, 23, 2, 16511)\n"
          ],
          "name": "stdout"
        }
      ]
    },
    {
      "cell_type": "code",
      "metadata": {
        "colab": {
          "base_uri": "https://localhost:8080/"
        },
        "id": "ZOH_lGBkf-O9",
        "outputId": "85bce1be-1c51-4831-b528-5c371921ff81"
      },
      "source": [
        "print(cues.shape)"
      ],
      "execution_count": null,
      "outputs": [
        {
          "output_type": "stream",
          "text": [
            "(210, 23, 34, 512, 5)\n"
          ],
          "name": "stdout"
        }
      ]
    },
    {
      "cell_type": "code",
      "metadata": {
        "id": "XpUj5Vy-Id9g"
      },
      "source": [
        "# calculate spectral and IPD cues\n",
        "spectralCuesList = []\n",
        "ipdCuesList = []\n",
        "for audioIndex in range(len(sigPairList)):\n",
        "    spectralCues = np.zeros(sigPairList[audioIndex].shape[:-2] + (Zxx.shape[1], Zxx.shape[0]) + (4,), dtype='float')\n",
        "    ipdCues = np.zeros(sigPairList[audioIndex].shape[:-2] + (Zxx.shape[1], Zxx.shape[0]), dtype='float')\n",
        "    print(\"IPD shape\", ipdCues.shape)\n",
        "    print(sigPairList[audioIndex].shape)\n",
        "\n",
        "    for i in range(sigPairList[audioIndex].shape[0]):\n",
        "        if i%100 == 1:\n",
        "            print(\"Sample \",i)\n",
        "        for locIndex in range(sigPairList[audioIndex].shape[1]):\n",
        "            f_l, t_l, Zxx_l = signal.stft(sigPairList[audioIndex][i, locIndex, 0], fs, nperseg=1023)\n",
        "            f_r, t_r, Zxx_r = signal.stft(sigPairList[audioIndex][i, locIndex, 1], fs, nperseg=1023)\n",
        "    #         print(Zxx_l.shape)\n",
        "            \n",
        "            ipdCues[i, locIndex] = normalise(np.transpose(calIPD(Zxx_l, Zxx_r), (1, 0)))\n",
        "            \n",
        "            r_l, theta_l = cartesian2euler(Zxx_l)\n",
        "            r_r, theta_r = cartesian2euler(Zxx_r)\n",
        "            # temp = np.array([r_l, theta_l, r_r, theta_r])\n",
        "            # print(temp.shape)\n",
        "            spectralCues[i, locIndex] = np.transpose(np.array([r_l, theta_l, r_r, theta_r]), (2, 1 ,0))\n",
        "            \n",
        "            # for timeIndex in range(Zxx_l.shape[1]):\n",
        "            #     for freqIndex in range(Zxx_l.shape[0]):\n",
        "            #         r_l, theta_l = cartesian2euler(Zxx_l[freqIndex][timeIndex])\n",
        "            #         r_r, theta_r = cartesian2euler(Zxx_r[freqIndex][timeIndex])\n",
        "\n",
        "            #         spectralCues[i, locIndex, timeIndex, freqIndex] = np.array([r_l, theta_l, r_r, theta_r])\n",
        "                    # print(spectralCues[i, locIndex, timeIndex, freqIndex].shape)\n",
        "                    \n",
        "            \n",
        "    ipdCues = np.transpose(ipdCues, (1, 0, 2, 3))\n",
        "    spectralCues = np.transpose(spectralCues, (1, 0, 2, 3, 4))\n",
        "\n",
        "    ipdCuesList.append(ipdCues)\n",
        "    spectralCuesList.append(spectralCues)\n"
      ],
      "execution_count": null,
      "outputs": []
    },
    {
      "cell_type": "code",
      "metadata": {
        "id": "a_VktGduId9h",
        "colab": {
          "base_uri": "https://localhost:8080/"
        },
        "outputId": "95f008df-e60b-4ad4-a9ff-62c72bc152ab"
      },
      "source": [
        "print(\"Size of feature matrices:\")\n",
        "print(ipdCues.shape)\n",
        "print(spectralCues.shape)\n"
      ],
      "execution_count": null,
      "outputs": [
        {
          "output_type": "stream",
          "text": [
            "Size of feature matrices:\n",
            "(269, 23, 34, 512)\n",
            "(269, 23, 34, 512, 4)\n"
          ],
          "name": "stdout"
        }
      ]
    },
    {
      "cell_type": "markdown",
      "metadata": {
        "id": "76dwTXYjId9i"
      },
      "source": [
        "#### Data visualisation"
      ]
    },
    {
      "cell_type": "code",
      "metadata": {
        "id": "QClIhLDLId9j"
      },
      "source": [
        "# IPD visualisation\n",
        "\n",
        "# plt.plot(ipdCues[0,0,100:105,:])\n",
        "\n",
        "# plt.pcolormesh(t_l, f_l, np.abs(ipdCues[random.randint(0,186), 0]), shading='gouraud')\n",
        "# plt.title('IPD cues')\n",
        "# plt.ylabel('Frequency [Hz]')\n",
        "# plt.xlabel('Time [sec]')\n",
        "# plt.show() "
      ],
      "execution_count": null,
      "outputs": []
    },
    {
      "cell_type": "code",
      "metadata": {
        "id": "WLwIU71jId9j"
      },
      "source": [
        "# plt.pcolormesh(t, f, spectralCues[random.randint(0,186), 0, :,:,3], shading='gouraud')\n",
        "# plt.title('Spectral cues (left-ear)')\n",
        "# plt.ylabel('Frequency [Hz]')\n",
        "# plt.xlabel('Time [sec]')\n",
        "# plt.colorbar()\n",
        "# plt.show()\n"
      ],
      "execution_count": null,
      "outputs": []
    },
    {
      "cell_type": "code",
      "metadata": {
        "id": "KYUyqLpXId9k"
      },
      "source": [
        ""
      ],
      "execution_count": null,
      "outputs": []
    },
    {
      "cell_type": "markdown",
      "metadata": {
        "id": "3yt1BCwP-tzc"
      },
      "source": [
        "### Tensorisation"
      ]
    },
    {
      "cell_type": "code",
      "metadata": {
        "id": "tG3m652dId9k",
        "colab": {
          "base_uri": "https://localhost:8080/"
        },
        "outputId": "0e397cd5-a4d1-4c0a-a342-bc26430a522c"
      },
      "source": [
        "import numpy as np\n",
        "import random\n",
        "import torch\n",
        "import torch.nn as nn\n",
        "from torch import optim\n",
        "from torch.utils.data import DataLoader, TensorDataset\n",
        "from torch.optim.lr_scheduler import ReduceLROnPlateau\n",
        "from sklearn.utils import class_weight\n",
        "from torch.autograd import Variable\n",
        "import torch.nn.functional as F\n",
        "\n",
        "cues_ = torch.from_numpy(cues.astype(np.float32))\n",
        "Nloc = cues_.shape[1]\n",
        "labels = np.zeros((cues_.shape[0], cues_.shape[1], 1)).astype(np.long)\n",
        "for i in range(cues.shape[0]):\n",
        "    for j in range(cues.shape[1]):\n",
        "        labels[i,j] = j\n",
        "\n",
        "labels_ = torch.from_numpy(labels)\n",
        "\n",
        "cues_ = cues_.reshape(cues_.shape[0] * cues_.shape[1], cues_.shape[2], cues_.shape[3], cues_.shape[4])\n",
        "labels_ = labels_.reshape(labels_.shape[0]*labels_.shape[1], 1)\n",
        "\n",
        "dataset_ = TensorDataset(cues_, labels_)\n",
        "\n",
        "\n",
        "print(\"cues shape: \",cues.shape)\n",
        "print(\"cues_ shape: \",cues_.shape)\n",
        "print(\"labels shape\",labels.shape)\n",
        "print(\"labels_ shape: \",labels_.shape)"
      ],
      "execution_count": null,
      "outputs": [
        {
          "output_type": "stream",
          "text": [
            "cues shape:  (210, 23, 34, 512, 5)\n",
            "cues_ shape:  torch.Size([4830, 34, 512, 5])\n",
            "labels shape (210, 23, 1)\n",
            "labels_ shape:  torch.Size([4830, 1])\n"
          ],
          "name": "stdout"
        }
      ]
    },
    {
      "cell_type": "code",
      "metadata": {
        "id": "0vG1p-pKId9l",
        "colab": {
          "base_uri": "https://localhost:8080/"
        },
        "outputId": "589abb00-90c6-4cf7-d5c1-bd8bf73fcc9b"
      },
      "source": [
        "batch_size = 32\n",
        "Ntrain = round(0.6*cues_.shape[0])\n",
        "if Ntrain % batch_size == 1:\n",
        "    Ntrain -=1\n",
        "Nvalid = round(0.2*cues_.shape[0])\n",
        "if Nvalid % batch_size == 1:\n",
        "    Nvalid -=1\n",
        "Ntest = cues_.shape[0] - Ntrain - Nvalid\n",
        "if Ntest % batch_size == 1:\n",
        "    Ntest -=1\n",
        "print(\"Dataset separation: \",Ntrain, Nvalid, Ntest)\n",
        "\n",
        "train, valid, test = torch.utils.data.random_split(dataset_, [Ntrain, Nvalid, Ntest], generator=torch.Generator().manual_seed(42))\n",
        "train_loader = DataLoader(dataset=train, batch_size=32, shuffle=True, num_workers=0)\n",
        "valid_loader = DataLoader(dataset=valid, batch_size=32, shuffle=True, num_workers=0)\n"
      ],
      "execution_count": null,
      "outputs": [
        {
          "output_type": "stream",
          "text": [
            "Dataset separation:  2898 966 966\n"
          ],
          "name": "stdout"
        }
      ]
    },
    {
      "cell_type": "markdown",
      "metadata": {
        "id": "L11DYF-3C93I"
      },
      "source": [
        "## Transformer"
      ]
    },
    {
      "cell_type": "markdown",
      "metadata": {
        "id": "v_N2X-4hspwT"
      },
      "source": [
        "### Model 1"
      ]
    },
    {
      "cell_type": "markdown",
      "metadata": {
        "id": "dbUCgxrDAOmy"
      },
      "source": [
        "From scratch"
      ]
    },
    {
      "cell_type": "code",
      "metadata": {
        "id": "Sgw6yz8pId9m",
        "colab": {
          "base_uri": "https://localhost:8080/"
        },
        "outputId": "77d1e6c0-40e8-4a89-fb1a-a7a169a47c72"
      },
      "source": [
        "class SelfAttention(nn.Module):\n",
        "    def __init__(self, freqSize, heads):\n",
        "        super(SelfAttention, self).__init__()\n",
        "        self.freqSize = freqSize\n",
        "        self.heads = heads\n",
        "        self.head_dim = freqSize // heads\n",
        "\n",
        "        # assert debug\n",
        "        assert (\n",
        "            self.head_dim * heads == freqSize\n",
        "        ), \"Embedding size needs to be divisible by heads\"\n",
        "\n",
        "        # obtain Q K V matrices by linear transformation\n",
        "        self.values = nn.Linear(self.head_dim, self.head_dim, bias=False)\n",
        "        self.keys = nn.Linear(self.head_dim, self.head_dim, bias=False)\n",
        "        self.queries = nn.Linear(self.head_dim, self.head_dim, bias=False)\n",
        "        self.fc_out = nn.Linear(heads * self.head_dim, freqSize)\n",
        "\n",
        "    def forward(self, value, key, query):\n",
        "        # Get number of training examples\n",
        "        N = query.shape[0]\n",
        "\n",
        "        value_time, value_freq = value.shape[1], value.shape[2]\n",
        "        key_time, key_freq = key.shape[1], key.shape[2]\n",
        "        query_time, query_freq = query.shape[1], query.shape[2]\n",
        "\n",
        "        # Split the embedding into self.heads different pieces\n",
        "        value = value.reshape(N, value_time, self.heads, self.head_dim)\n",
        "        key = key.reshape(N, key_time, self.heads, self.head_dim)\n",
        "        query = query.reshape(N, query_time, self.heads, self.head_dim)\n",
        "\n",
        "        values = self.values(value)  # (N, value_len, heads, head_dim)\n",
        "        keys = self.keys(key)  # (N, key_len, heads, head_dim)\n",
        "        queries = self.queries(query)  # (N, query_len, heads, heads_dim)\n",
        "\n",
        "        energy = torch.einsum(\"nqhd,nkhd->nhqk\", [queries, keys])\n",
        "\n",
        "        attention = torch.softmax(energy / (self.freqSize ** (1 / 2)), dim=3)\n",
        "\n",
        "        out = torch.einsum(\"nhql,nlhd->nqhd\", [attention, values]).reshape(\n",
        "            N, query_time, self.heads * self.head_dim\n",
        "        )\n",
        "\n",
        "        out = self.fc_out(out)\n",
        "        return out\n",
        "\n",
        "\n",
        "class Attention(nn.Module):\n",
        "    def __init__(self, embedSize, locSize):\n",
        "        super(Attention, self).__init__()\n",
        "        self.embedSize = embedSize\n",
        "\n",
        "        # obtain Q K V matrices by linear transformation\n",
        "        self.values = nn.Linear(embedSize, embedSize, bias=False)\n",
        "        self.keys = nn.Linear(embedSize, embedSize, bias=False)\n",
        "        self.queries = nn.Linear(embedSize, embedSize, bias=False)\n",
        "        self.fc_out = nn.Linear(embedSize, locSize)\n",
        "\n",
        "    def forward(self, value, key, query):\n",
        "        # Get number of training examples\n",
        "        N = query.shape[0]\n",
        "\n",
        "        value_time, value_freq = value.shape[1], value.shape[2]\n",
        "        key_time, key_freq = key.shape[1], key.shape[2]\n",
        "        query_time, query_freq = query.shape[1], query.shape[2]\n",
        "\n",
        "        values = self.values(value)  # (N, value_len, heads, head_dim)\n",
        "        keys = self.keys(key)  # (N, key_len, heads, head_dim)\n",
        "        queries = self.queries(query)  # (N, query_len, heads, heads_dim)\n",
        "\n",
        "        energy = torch.einsum(\"ntqe,ntke->neqk\", [queries, keys])\n",
        "\n",
        "        attention = torch.softmax(energy / (self.embedSize ** (1 / 2)), dim=3)\n",
        "\n",
        "        out = torch.einsum(\"neqk,ntve->ntqe\", [attention, values]).reshape(\n",
        "            N, query_time, query_freq, self.embedSize\n",
        "        )\n",
        "\n",
        "        out = self.fc_out(out)\n",
        "        return out\n",
        "\n",
        "class TransformerBlock(nn.Module):\n",
        "    def __init__(self, freqSize, heads, dropout, forward_expansion):\n",
        "        super(TransformerBlock, self).__init__()\n",
        "        self.attention = SelfAttention(freqSize, heads)\n",
        "        self.norm1 = nn.LayerNorm(freqSize)\n",
        "        self.norm2 = nn.LayerNorm(freqSize)\n",
        "\n",
        "        self.feed_forward = nn.Sequential(\n",
        "            nn.Linear(freqSize, forward_expansion * freqSize),\n",
        "            nn.ReLU(),\n",
        "            nn.Linear(forward_expansion * freqSize, freqSize),\n",
        "        )\n",
        "\n",
        "        self.dropout = nn.Dropout(dropout)\n",
        "\n",
        "    def forward(self, value, key, query):\n",
        "        attention = self.attention(value, key, query)\n",
        "\n",
        "        # Add skip connection, run through normalization and finally dropout\n",
        "        x = self.dropout(self.norm1(attention + query))\n",
        "        forward = self.feed_forward(x)\n",
        "        out = self.dropout(self.norm2(forward + x))\n",
        "        return out\n",
        "\n",
        "class Encoder(nn.Module):\n",
        "    def __init__(\n",
        "        self,\n",
        "        freqSize, # frequency bins\n",
        "        num_layers,\n",
        "        heads,\n",
        "        device,\n",
        "        forward_expansion,\n",
        "        dropout,\n",
        "    ):\n",
        "\n",
        "        super(Encoder, self).__init__()\n",
        "        self.freqSize = freqSize\n",
        "        self.device = device\n",
        "\n",
        "        self.layers = nn.ModuleList(\n",
        "            [\n",
        "                TransformerBlock(\n",
        "                    freqSize,\n",
        "                    heads,\n",
        "                    dropout=dropout,\n",
        "                    forward_expansion=forward_expansion,\n",
        "                )\n",
        "                for _ in range(num_layers)\n",
        "            ]\n",
        "        )\n",
        "\n",
        "        self.dropout = nn.Dropout(dropout)\n",
        "\n",
        "    def forward(self, x):\n",
        "        timeSize, freqSize = x.shape[-2], x.shape[-1]\n",
        "        # positions = torch.arange(0, seq_length).expand(N, seq_length).to(self.device)\n",
        "        out = self.dropout(x)\n",
        "\n",
        "        # In the Encoder the query, key, value are all the same, it's in the\n",
        "        # decoder this will change. This might look a bit odd in this case.\n",
        "        for layer in self.layers:\n",
        "            out = layer(out, out, out)\n",
        "\n",
        "        return out\n",
        "\n",
        "class SSSL(nn.Module):\n",
        "    def __init__(\n",
        "    self,\n",
        "    locSize,\n",
        "    timeSize, # time windows\n",
        "    freqSize, # frequency bins\n",
        "    num_layers,\n",
        "    heads,\n",
        "    device,\n",
        "    forward_expansion,\n",
        "    dropout,\n",
        "    isDebug\n",
        "    ):\n",
        "        super(SSSL, self).__init__()\n",
        "        self.encoder = Encoder(           \n",
        "            freqSize, # frequency bins\n",
        "            num_layers,\n",
        "            heads,\n",
        "            device,\n",
        "            forward_expansion,\n",
        "            dropout,\n",
        "        )\n",
        "        self.attention = Attention(5, locSize)\n",
        "        self.fcFreq = nn.Linear(freqSize, 1)\n",
        "        self.fcTime = nn.Linear(timeSize, 1)\n",
        "        self.isDebug = isDebug\n",
        "        self.dropout = nn.Dropout(dropout)\n",
        "        # self.softmaxLayer = nn.Softmax(dim = -1)\n",
        "    def forward(self, cues_):\n",
        "        enc_ipd = self.encoder(cues_[:,:,:,0])\n",
        "        if self.isDebug == True:\n",
        "            print(\"enc_ipd shape: \",enc_ipd.shape)\n",
        "        enc_slMag = self.encoder(cues_[:,:,:,1])\n",
        "        enc_slPhase = self.encoder(cues_[:,:,:,2])\n",
        "        enc_srMag = self.encoder(cues_[:,:,:,3])\n",
        "        enc_srPhase = self.encoder(cues_[:,:,:,4])\n",
        "        enc = torch.stack([enc_ipd, enc_slMag, enc_slPhase, enc_srMag, enc_srPhase])\n",
        "        # del enc_ipd, enc_slMag, enc_slPhase, enc_srMag, enc_srPhase\n",
        "        enc = enc.permute(1,2,3,0)\n",
        "        # encCat = torch.cat((enc_ipd, enc_slMag, enc_slPhase, enc_srMag, enc_srPhase), -1)\n",
        "        # print(enc.shape)\n",
        "        if self.isDebug == True:\n",
        "            print(\"enc shape: \",enc.shape)\n",
        "\n",
        "        attOut = self.attention(enc, enc, enc)\n",
        "        if self.isDebug == True:\n",
        "            print(\"attOut shape: \",attOut.shape)\n",
        "\n",
        "        out = self.fcFreq(attOut.permute(0,1,3,2))\n",
        "        out = out.squeeze(-1)\n",
        "        # out = self.dropout(out)\n",
        "\n",
        "        # out = torch.mean(attOut, -2)\n",
        "        # out = out.squeeze(-1)\n",
        "        if self.isDebug == True:\n",
        "            print(\"FC freq shape: \",out.shape)\n",
        "        \n",
        "        out = self.fcTime(out.permute(0, 2, 1))\n",
        "        out = out.squeeze(-1)\n",
        "        # out = self.dropout(out)\n",
        "\n",
        "        # out = torch.mean(out, -2)\n",
        "        # out = out.squeeze(-2)\n",
        "        if self.isDebug == True:\n",
        "            print(\"FC time shape: \",out.shape)\n",
        "\n",
        "\n",
        "        # out = self.softmaxLayer(out)\n",
        "        return out\n",
        "\n",
        "Nfreq = cues_.shape[2]\n",
        "print(Nfreq)\n",
        "Ntime = cues_.shape[1]\n",
        "print(Ntime)\n",
        "# Nloc = cues_.shape[0]\n",
        "device = torch.device(\"cuda\" if torch.cuda.is_available() else \"cpu\")\n",
        "numLayers = 3\n",
        "model = SSSL(Nloc, Ntime, Nfreq, numLayers, 8, device, 4, 0, False).to(device)\n",
        "testInput = cues_[-3:-1].to(device)\n",
        "testLabel = labels_[-3:-1].to(device)\n",
        "testOutput = model(testInput)\n",
        "print(testInput.shape)\n",
        "print(testOutput.shape)\n"
      ],
      "execution_count": 69,
      "outputs": [
        {
          "output_type": "stream",
          "text": [
            "512\n",
            "34\n",
            "torch.Size([2, 34, 512, 5])\n",
            "torch.Size([2, 23])\n"
          ],
          "name": "stdout"
        }
      ]
    },
    {
      "cell_type": "code",
      "metadata": {
        "colab": {
          "base_uri": "https://localhost:8080/",
          "height": 191
        },
        "id": "9pgwebLU-EQi",
        "outputId": "58deb21d-44eb-4ddd-e56c-945005173061"
      },
      "source": [
        "torch.cuda.memory_summary(device=device, abbreviated=False)\n",
        "# !nvidia-smi"
      ],
      "execution_count": null,
      "outputs": [
        {
          "output_type": "execute_result",
          "data": {
            "application/vnd.google.colaboratory.intrinsic+json": {
              "type": "string"
            },
            "text/plain": [
              "'|===========================================================================|\\n|                  PyTorch CUDA memory summary, device ID 0                 |\\n|---------------------------------------------------------------------------|\\n|            CUDA OOMs: 0            |        cudaMalloc retries: 0         |\\n|===========================================================================|\\n|        Metric         | Cur Usage  | Peak Usage | Tot Alloc  | Tot Freed  |\\n|---------------------------------------------------------------------------|\\n| Allocated memory      |  155837 KB |  168790 KB |  198586 KB |   42749 KB |\\n|       from large pool |   72760 KB |   83000 KB |   86128 KB |   13368 KB |\\n|       from small pool |   83077 KB |   85790 KB |  112458 KB |   29381 KB |\\n|---------------------------------------------------------------------------|\\n| Active memory         |  155837 KB |  168790 KB |  198586 KB |   42749 KB |\\n|       from large pool |   72760 KB |   83000 KB |   86128 KB |   13368 KB |\\n|       from small pool |   83077 KB |   85790 KB |  112458 KB |   29381 KB |\\n|---------------------------------------------------------------------------|\\n| GPU reserved memory   |  192512 KB |  192512 KB |  192512 KB |       0 B  |\\n|       from large pool |  102400 KB |  102400 KB |  102400 KB |       0 B  |\\n|       from small pool |   90112 KB |   90112 KB |   90112 KB |       0 B  |\\n|---------------------------------------------------------------------------|\\n| Non-releasable memory |   16195 KB |   36002 KB |  179196 KB |  163001 KB |\\n|       from large pool |    9160 KB |   29640 KB |   76744 KB |   67584 KB |\\n|       from small pool |    7035 KB |    7035 KB |  102452 KB |   95417 KB |\\n|---------------------------------------------------------------------------|\\n| Allocations           |     597    |     600    |     814    |     217    |\\n|       from large pool |      15    |      16    |      17    |       2    |\\n|       from small pool |     582    |     584    |     797    |     215    |\\n|---------------------------------------------------------------------------|\\n| Active allocs         |     597    |     600    |     814    |     217    |\\n|       from large pool |      15    |      16    |      17    |       2    |\\n|       from small pool |     582    |     584    |     797    |     215    |\\n|---------------------------------------------------------------------------|\\n| GPU reserved segments |      50    |      50    |      50    |       0    |\\n|       from large pool |       6    |       6    |       6    |       0    |\\n|       from small pool |      44    |      44    |      44    |       0    |\\n|---------------------------------------------------------------------------|\\n| Non-releasable allocs |      45    |      46    |     193    |     148    |\\n|       from large pool |       1    |       2    |       4    |       3    |\\n|       from small pool |      44    |      44    |     189    |     145    |\\n|===========================================================================|\\n'"
            ]
          },
          "metadata": {
            "tags": []
          },
          "execution_count": 38
        }
      ]
    },
    {
      "cell_type": "markdown",
      "metadata": {
        "id": "qVaR3Uuy7vPV"
      },
      "source": [
        "### Model 2"
      ]
    },
    {
      "cell_type": "markdown",
      "metadata": {
        "id": "aGQ_Fp8_AdJn"
      },
      "source": [
        "Using Pytorch implementation"
      ]
    },
    {
      "cell_type": "code",
      "metadata": {
        "id": "aSLB7RPj7wtF",
        "colab": {
          "base_uri": "https://localhost:8080/"
        },
        "outputId": "c7cb6312-b92a-4be7-a1d6-28c0a278b354"
      },
      "source": [
        "class SelfAttention(nn.Module):\n",
        "    def __init__(self, freqSize, heads):\n",
        "        super(SelfAttention, self).__init__()\n",
        "        self.freqSize = freqSize\n",
        "        self.heads = heads\n",
        "        self.head_dim = freqSize // heads\n",
        "\n",
        "        # assert debug\n",
        "        assert (\n",
        "            self.head_dim * heads == freqSize\n",
        "        ), \"Embedding size needs to be divisible by heads\"\n",
        "\n",
        "        # obtain Q K V matrices by linear transformation\n",
        "        self.values = nn.Linear(self.head_dim, self.head_dim, bias=False)\n",
        "        self.keys = nn.Linear(self.head_dim, self.head_dim, bias=False)\n",
        "        self.queries = nn.Linear(self.head_dim, self.head_dim, bias=False)\n",
        "        self.fc_out = nn.Linear(heads * self.head_dim, freqSize)\n",
        "\n",
        "    def forward(self, value, key, query):\n",
        "        # Get number of training examples\n",
        "        N = query.shape[0]\n",
        "        \n",
        "        value_time, value_freq = value.shape[1], value.shape[2]\n",
        "        key_time, key_freq = key.shape[1], key.shape[2]\n",
        "        query_time, query_freq = query.shape[1], query.shape[2]\n",
        "\n",
        "        # Split the embedding into self.heads different pieces\n",
        "        value = value.reshape(N, value_time, self.heads, self.head_dim)\n",
        "        key = key.reshape(N, key_time, self.heads, self.head_dim)\n",
        "        query = query.reshape(N, query_time, self.heads, self.head_dim)\n",
        "\n",
        "        values = self.values(value)  # (N, value_len, heads, head_dim)\n",
        "        keys = self.keys(key)  # (N, key_len, heads, head_dim)\n",
        "        queries = self.queries(query)  # (N, query_len, heads, heads_dim)\n",
        "\n",
        "        energy = torch.einsum(\"nqhd,nkhd->nhqk\", [queries, keys])\n",
        "\n",
        "        attention = torch.softmax(energy / (self.freqSize ** (1 / 2)), dim=3)\n",
        "\n",
        "        out = torch.einsum(\"nhql,nlhd->nqhd\", [attention, values]).reshape(\n",
        "            N, query_time, self.heads * self.head_dim\n",
        "        )\n",
        "\n",
        "        out = self.fc_out(out)\n",
        "        return out\n",
        "\n",
        "class Attention(nn.Module):\n",
        "    def __init__(self, embedSize, locSize):\n",
        "        super(Attention, self).__init__()\n",
        "        self.embedSize = embedSize\n",
        "\n",
        "        # obtain Q K V matrices by linear transformation\n",
        "        self.values = nn.Linear(embedSize, embedSize, bias=False)\n",
        "        self.keys = nn.Linear(embedSize, embedSize, bias=False)\n",
        "        self.queries = nn.Linear(embedSize, embedSize, bias=False)\n",
        "        self.fc_out = nn.Linear(embedSize, locSize)\n",
        "\n",
        "    def forward(self, value, key, query):\n",
        "        # Get number of training examples\n",
        "        N = query.shape[0]\n",
        "\n",
        "        value_time, value_freq = value.shape[1], value.shape[2]\n",
        "        key_time, key_freq = key.shape[1], key.shape[2]\n",
        "        query_time, query_freq = query.shape[1], query.shape[2]\n",
        "\n",
        "        values = self.values(value)  # (N, value_len, heads, head_dim)\n",
        "        keys = self.keys(key)  # (N, key_len, heads, head_dim)\n",
        "        queries = self.queries(query)  # (N, query_len, heads, heads_dim)\n",
        "\n",
        "        energy = torch.einsum(\"ntqe,ntke->neqk\", [queries, keys])\n",
        "\n",
        "        attention = torch.softmax(energy / (self.embedSize ** (1 / 2)), dim=3)\n",
        "\n",
        "        out = torch.einsum(\"neqk,ntve->ntqe\", [attention, values]).reshape(\n",
        "            N, query_time, query_freq, self.embedSize\n",
        "        )\n",
        "\n",
        "        out = self.fc_out(out)\n",
        "        return out\n",
        "\n",
        "class TransformerBlock(nn.Module):\n",
        "    def __init__(self, freqSize, heads, dropout, forward_expansion):\n",
        "        super(TransformerBlock, self).__init__()\n",
        "        self.attention = SelfAttention(freqSize, heads)\n",
        "        self.norm1 = nn.LayerNorm(freqSize)\n",
        "        self.norm2 = nn.LayerNorm(freqSize)\n",
        "\n",
        "        self.feed_forward = nn.Sequential(\n",
        "            nn.Linear(freqSize, forward_expansion * freqSize),\n",
        "            nn.ReLU(),\n",
        "            nn.Linear(forward_expansion * freqSize, freqSize),\n",
        "        )\n",
        "\n",
        "        self.dropout = nn.Dropout(dropout)\n",
        "\n",
        "    def forward(self, value, key, query):\n",
        "        attention = self.attention(value, key, query)\n",
        "\n",
        "        # Add skip connection, run through normalization and finally dropout\n",
        "        x = self.dropout(self.norm1(attention + query))\n",
        "        forward = self.feed_forward(x)\n",
        "        out = self.dropout(self.norm2(forward + x))\n",
        "        return out\n",
        "\n",
        "class Encoder(nn.Module):\n",
        "    def __init__(\n",
        "        self,\n",
        "        freqSize, # frequency bins\n",
        "        num_layers,\n",
        "        heads,\n",
        "        device,\n",
        "        forward_expansion,\n",
        "        dropout,\n",
        "    ):\n",
        "\n",
        "        super(Encoder, self).__init__()\n",
        "        self.freqSize = freqSize\n",
        "        self.device = device\n",
        "\n",
        "        self.layers = nn.ModuleList(\n",
        "            [\n",
        "                TransformerBlock(\n",
        "                    freqSize,\n",
        "                    heads,\n",
        "                    dropout=dropout,\n",
        "                    forward_expansion=forward_expansion,\n",
        "                )\n",
        "                for _ in range(num_layers)\n",
        "            ]\n",
        "        )\n",
        "\n",
        "        self.dropout = nn.Dropout(dropout)\n",
        "\n",
        "    def forward(self, x):\n",
        "        timeSize, freqSize = x.shape[-2], x.shape[-1]\n",
        "        # positions = torch.arange(0, seq_length).expand(N, seq_length).to(self.device)\n",
        "        out = self.dropout(x)\n",
        "\n",
        "        # In the Encoder the query, key, value are all the same, it's in the\n",
        "        # decoder this will change. This might look a bit odd in this case.\n",
        "        for layer in self.layers:\n",
        "            out = layer(out, out, out)\n",
        "\n",
        "        return out\n",
        "\n",
        "class SSSL(nn.Module):\n",
        "    def __init__(\n",
        "    self,\n",
        "    locSize,\n",
        "    timeSize, # time windows\n",
        "    freqSize, # frequency bins\n",
        "    num_layers,\n",
        "    heads,\n",
        "    device,\n",
        "    forward_expansion,\n",
        "    dropout,\n",
        "    isDebug\n",
        "    ):\n",
        "        super(SSSL, self).__init__()\n",
        "\n",
        "        transformer_layers = nn.TransformerEncoderLayer(\n",
        "            freqSize, heads, 2048, dropout\n",
        "        )\n",
        "        self.encoder = nn.TransformerEncoder(transformer_layers, num_layers)\n",
        "\n",
        "        # self.encoder = Encoder(           \n",
        "        #     freqSize, # frequency bins\n",
        "        #     num_layers,\n",
        "        #     heads,\n",
        "        #     device,\n",
        "        #     forward_expansion,\n",
        "        #     dropout,\n",
        "        # )\n",
        "        self.isDebug = isDebug\n",
        "        self.attention = Attention(5, locSize)\n",
        "        self.fcFreq = nn.Linear(freqSize, 1)\n",
        "        self.fcTime = nn.Linear(timeSize, 1)\n",
        "        # self.softmaxLayer = nn.Softmax(dim = -1)\n",
        "    def forward(self, ipd, slMag, slPhase, srMag, srPhase):\n",
        "        enc_ipd = self.encoder(ipd)\n",
        "        if self.isDebug == True:\n",
        "            print(\"enc_ipd shape: \",enc_ipd.shape)\n",
        "        enc_slMag = self.encoder(slMag)\n",
        "        enc_slPhase = self.encoder(slPhase)\n",
        "        enc_srMag = self.encoder(srMag)\n",
        "        enc_srPhase = self.encoder(srPhase)\n",
        "        enc = torch.stack([enc_ipd, enc_slMag, enc_slPhase, enc_srMag, enc_srPhase])\n",
        "        enc = enc.permute(1,2,3,0)\n",
        "        # encCat = torch.cat((enc_ipd, enc_slMag, enc_slPhase, enc_srMag, enc_srPhase), -1)\n",
        "        # print(enc.shape)\n",
        "\n",
        "        attOut = self.attention(enc, enc, enc)\n",
        "        # print(enc_ipd.shape)\n",
        "        if self.isDebug == True:\n",
        "            print(\"Attention output shape: \",attOut.shape)\n",
        "\n",
        "        out = self.fcFreq(attOut.permute(0,1,3,2))\n",
        "        out = out.squeeze(-1)\n",
        "        if self.isDebug == True:\n",
        "            print(\"FC freq shape: \",out.shape)\n",
        "\n",
        "        # out = torch.mean(attOut, -2)\n",
        "        # out = out.squeeze(-1)\n",
        "        # print(out.shape)\n",
        "        out = self.fcTime(out.permute(0,2,1))\n",
        "        out = out.squeeze(-1)\n",
        "        if self.isDebug == True:\n",
        "            print(\"FC time shape: \",out.shape)\n",
        "\n",
        "        # out = torch.mean(out, -2)\n",
        "        # out = out.squeeze(-2)\n",
        "\n",
        "\n",
        "        # out = self.softmaxLayer(out)\n",
        "        return out\n",
        "\n",
        "Nfreq = ipd_.shape[2]\n",
        "print(Nfreq)\n",
        "Ntime = ipd_.shape[1]\n",
        "print(Ntime)\n",
        "# Nloc = 187\n",
        "device = torch.device(\"cuda\" if torch.cuda.is_available() else \"cpu\")\n",
        "print(device)\n",
        "numLayers = 6\n",
        "model = SSSL(Nloc, Ntime, Nfreq, numLayers, 8, device, 4, 0, False).to(device)\n",
        "testOut = model(ipd_[0:2].to(device),ipd_[0:2].to(device),ipd_[0:2].to(device),ipd_[0:2].to(device),ipd_[0:2].to(device))\n",
        "print(ipd_[0:2].shape)\n",
        "print(testOut.shape)"
      ],
      "execution_count": null,
      "outputs": [
        {
          "output_type": "stream",
          "text": [
            "512\n",
            "18\n",
            "cuda\n",
            "torch.Size([2, 18, 512])\n",
            "torch.Size([2, 23])\n"
          ],
          "name": "stdout"
        }
      ]
    },
    {
      "cell_type": "code",
      "metadata": {
        "id": "7BlxkVzMGw_e"
      },
      "source": [
        ""
      ],
      "execution_count": null,
      "outputs": []
    },
    {
      "cell_type": "markdown",
      "metadata": {
        "id": "lFRLFnSvy6Bl"
      },
      "source": [
        "### Network training"
      ]
    },
    {
      "cell_type": "code",
      "metadata": {
        "id": "0pyjBUGWId9m",
        "colab": {
          "base_uri": "https://localhost:8080/",
          "height": 1000
        },
        "outputId": "f5defea4-5dd5-4c8c-e098-49a2e9f6e8bf"
      },
      "source": [
        "# import gc\n",
        "\n",
        "# gc.collect()\n",
        "# torch.cuda.empty_cache()\n",
        "\n",
        "# device = torch.device(\"cuda\" if torch.cuda.is_available() else \"cpu\")\n",
        "# numLayers = 6\n",
        "# model = SSSL(Nloc, Ntime, Nfreq, numLayers, 8, device, 4, 0, False).to(device)\n",
        "\n",
        "num_epochs = 100\n",
        "learning_rate = 1e-4\n",
        "# batch_size = 32\n",
        "early_epoch = 100\n",
        "new_early_epoch = 0\n",
        "new_val_loss = 0.0\n",
        "\n",
        "optimizer = optim.Adam(model.parameters(), lr=learning_rate)\n",
        "scheduler = ReduceLROnPlateau(optimizer, 'min', factor=0.5, patience=20, verbose=True)\n",
        "criterion = nn.CrossEntropyLoss()\n",
        "\n",
        "for epoch in range(num_epochs):\n",
        "    print(\"\\nEpoch %d\" % (epoch + 1))\n",
        "    model.train()\n",
        "    sum_loss = 0.0\n",
        "    correct = 0.0\n",
        "    total = 0.0\n",
        "\n",
        "    for i, data in enumerate(train_loader, 0):\n",
        "        length = len(train_loader)\n",
        "        inputs, labels = data\n",
        "        inputs, labels = Variable(inputs).to(device), Variable(labels.long()).to(device)\n",
        "\n",
        "        outputs = model(inputs)\n",
        "\n",
        "        # print(\"Input shape: \",inputs.shape)\n",
        "        # print(\"Ouput shape: \", outputs.shape)\n",
        "        # print(\"Label shape: \", labels.shape)\n",
        "        loss = criterion(outputs, labels.squeeze(1))\n",
        "        optimizer.zero_grad()\n",
        "        loss.backward()\n",
        "        # torch.nn.utils.clip_grad_norm_(model.parameters(), max_norm=1)\n",
        "        optimizer.step()\n",
        "\n",
        "        sum_loss += loss.item()\n",
        "        _, predicted = torch.max(outputs.data, 1)\n",
        "        total += labels.size(0)\n",
        "        correct += predicted.eq(labels.squeeze(1).data).sum().item()\n",
        "    print(\"correct: %d | total: %d\"\n",
        "        % (correct, total))\n",
        "    print('Training Loss: %.04f | Training Acc: %.4f%% '\n",
        "        % (sum_loss / (i + 1), 100.0 * correct / total))\n",
        "    \n",
        "\n",
        "    val_loss = 0.0\n",
        "    val_correct = 0.0\n",
        "    val_total = 0.0\n",
        "\n",
        "    model.eval()\n",
        "    with torch.no_grad():\n",
        "        for i, data in enumerate(valid_loader, 0):\n",
        "            inputs, labels = data\n",
        "            inputs, labels = Variable(inputs).to(device), Variable(labels.long()).to(device)\n",
        "            \n",
        "            outputs = model(inputs)\n",
        "            val_loss = criterion(outputs, labels.squeeze(1))\n",
        "            _, predicted = torch.max(outputs.data, 1)\n",
        "            val_total += labels.size(0)\n",
        "            val_correct += predicted.eq(labels.squeeze(1).data).sum().item()\n",
        "        scheduler.step(val_loss)\n",
        "\n",
        "    print('Val_Loss: %.04f | Val_Acc: %.4f%% '\n",
        "        % (val_loss, 100.0 * val_correct / val_total))\n",
        "\n",
        "    if (100.0 * val_correct / val_total <= new_val_loss):\n",
        "        new_early_epoch += 1\n",
        "    else:\n",
        "        new_val_loss = 100.0 * val_correct / val_total\n",
        "        new_early_epoch = 0\n",
        "    if (new_early_epoch >= early_epoch):\n",
        "        break"
      ],
      "execution_count": null,
      "outputs": [
        {
          "output_type": "stream",
          "text": [
            "\n",
            "Epoch 1\n",
            "correct: 131 | total: 2898\n",
            "Training Loss: 3.1328 | Training Acc: 4.5204% \n",
            "Val_Loss: 3.0447 | Val_Acc: 4.9689% \n",
            "\n",
            "Epoch 2\n",
            "correct: 152 | total: 2898\n",
            "Training Loss: 3.0012 | Training Acc: 5.2450% \n",
            "Val_Loss: 3.1406 | Val_Acc: 9.5238% \n",
            "\n",
            "Epoch 3\n",
            "correct: 193 | total: 2898\n",
            "Training Loss: 2.8332 | Training Acc: 6.6598% \n",
            "Val_Loss: 2.6827 | Val_Acc: 9.5238% \n",
            "\n",
            "Epoch 4\n",
            "correct: 280 | total: 2898\n",
            "Training Loss: 2.6769 | Training Acc: 9.6618% \n",
            "Val_Loss: 2.9492 | Val_Acc: 12.1118% \n",
            "\n",
            "Epoch 5\n",
            "correct: 311 | total: 2898\n",
            "Training Loss: 2.5966 | Training Acc: 10.7315% \n",
            "Val_Loss: 2.3114 | Val_Acc: 12.9400% \n",
            "\n",
            "Epoch 6\n",
            "correct: 400 | total: 2898\n",
            "Training Loss: 2.5056 | Training Acc: 13.8026% \n",
            "Val_Loss: 2.4885 | Val_Acc: 16.5631% \n",
            "\n",
            "Epoch 7\n",
            "correct: 490 | total: 2898\n",
            "Training Loss: 2.4318 | Training Acc: 16.9082% \n",
            "Val_Loss: 2.3693 | Val_Acc: 19.9793% \n",
            "\n",
            "Epoch 8\n",
            "correct: 592 | total: 2898\n",
            "Training Loss: 2.3183 | Training Acc: 20.4279% \n",
            "Val_Loss: 2.0245 | Val_Acc: 23.4990% \n",
            "\n",
            "Epoch 9\n",
            "correct: 766 | total: 2898\n",
            "Training Loss: 2.1175 | Training Acc: 26.4320% \n",
            "Val_Loss: 2.2332 | Val_Acc: 28.5714% \n",
            "\n",
            "Epoch 10\n",
            "correct: 938 | total: 2898\n",
            "Training Loss: 1.9624 | Training Acc: 32.3671% \n",
            "Val_Loss: 2.5038 | Val_Acc: 33.3333% \n",
            "\n",
            "Epoch 11\n",
            "correct: 1130 | total: 2898\n",
            "Training Loss: 1.7384 | Training Acc: 38.9924% \n",
            "Val_Loss: 1.6839 | Val_Acc: 35.7143% \n",
            "\n",
            "Epoch 12\n",
            "correct: 1336 | total: 2898\n",
            "Training Loss: 1.5293 | Training Acc: 46.1008% \n",
            "Val_Loss: 2.7791 | Val_Acc: 37.6812% \n",
            "\n",
            "Epoch 13\n",
            "correct: 1562 | total: 2898\n",
            "Training Loss: 1.3143 | Training Acc: 53.8992% \n",
            "Val_Loss: 1.1112 | Val_Acc: 47.7226% \n",
            "\n",
            "Epoch 14\n",
            "correct: 1767 | total: 2898\n",
            "Training Loss: 1.1221 | Training Acc: 60.9731% \n",
            "Val_Loss: 1.5021 | Val_Acc: 47.9296% \n",
            "\n",
            "Epoch 15\n",
            "correct: 2002 | total: 2898\n",
            "Training Loss: 0.9138 | Training Acc: 69.0821% \n",
            "Val_Loss: 1.6504 | Val_Acc: 50.2070% \n",
            "\n",
            "Epoch 16\n",
            "correct: 2191 | total: 2898\n",
            "Training Loss: 0.7512 | Training Acc: 75.6039% \n",
            "Val_Loss: 1.9988 | Val_Acc: 57.2464% \n",
            "\n",
            "Epoch 17\n",
            "correct: 2393 | total: 2898\n",
            "Training Loss: 0.5751 | Training Acc: 82.5742% \n",
            "Val_Loss: 1.2226 | Val_Acc: 63.2505% \n",
            "\n",
            "Epoch 18\n",
            "correct: 2667 | total: 2898\n",
            "Training Loss: 0.3153 | Training Acc: 92.0290% \n",
            "Val_Loss: 0.1188 | Val_Acc: 62.5259% \n",
            "\n",
            "Epoch 19\n",
            "correct: 2734 | total: 2898\n",
            "Training Loss: 0.2205 | Training Acc: 94.3409% \n",
            "Val_Loss: 3.1113 | Val_Acc: 60.6625% \n",
            "\n",
            "Epoch 20\n",
            "correct: 2767 | total: 2898\n",
            "Training Loss: 0.1659 | Training Acc: 95.4796% \n",
            "Val_Loss: 3.6923 | Val_Acc: 62.3188% \n",
            "\n",
            "Epoch 21\n",
            "correct: 2788 | total: 2898\n",
            "Training Loss: 0.1643 | Training Acc: 96.2043% \n",
            "Val_Loss: 0.0358 | Val_Acc: 63.6646% \n",
            "\n",
            "Epoch 22\n",
            "correct: 2833 | total: 2898\n",
            "Training Loss: 0.0983 | Training Acc: 97.7571% \n",
            "Val_Loss: 1.3053 | Val_Acc: 65.0104% \n",
            "\n",
            "Epoch 23\n",
            "correct: 2871 | total: 2898\n",
            "Training Loss: 0.0537 | Training Acc: 99.0683% \n",
            "Val_Loss: 2.2106 | Val_Acc: 68.1159% \n",
            "\n",
            "Epoch 24\n",
            "correct: 2878 | total: 2898\n",
            "Training Loss: 0.0362 | Training Acc: 99.3099% \n",
            "Val_Loss: 0.6364 | Val_Acc: 67.5983% \n",
            "\n",
            "Epoch 25\n",
            "correct: 2886 | total: 2898\n",
            "Training Loss: 0.0363 | Training Acc: 99.5859% \n",
            "Val_Loss: 0.0412 | Val_Acc: 66.0455% \n",
            "\n",
            "Epoch 26\n",
            "correct: 2890 | total: 2898\n",
            "Training Loss: 0.0187 | Training Acc: 99.7239% \n",
            "Val_Loss: 5.6455 | Val_Acc: 67.2878% \n",
            "\n",
            "Epoch 27\n",
            "correct: 2889 | total: 2898\n",
            "Training Loss: 0.0248 | Training Acc: 99.6894% \n",
            "Val_Loss: 0.0069 | Val_Acc: 65.8385% \n",
            "\n",
            "Epoch 28\n",
            "correct: 2748 | total: 2898\n",
            "Training Loss: 0.1650 | Training Acc: 94.8240% \n",
            "Val_Loss: 8.3954 | Val_Acc: 64.0787% \n",
            "\n",
            "Epoch 29\n"
          ],
          "name": "stdout"
        },
        {
          "output_type": "error",
          "ename": "KeyboardInterrupt",
          "evalue": "ignored",
          "traceback": [
            "\u001b[0;31m---------------------------------------------------------------------------\u001b[0m",
            "\u001b[0;31mKeyboardInterrupt\u001b[0m                         Traceback (most recent call last)",
            "\u001b[0;32m<ipython-input-60-9a4bc863ca30>\u001b[0m in \u001b[0;36m<module>\u001b[0;34m()\u001b[0m\n\u001b[1;32m     38\u001b[0m         \u001b[0mloss\u001b[0m \u001b[0;34m=\u001b[0m \u001b[0mcriterion\u001b[0m\u001b[0;34m(\u001b[0m\u001b[0moutputs\u001b[0m\u001b[0;34m,\u001b[0m \u001b[0mlabels\u001b[0m\u001b[0;34m.\u001b[0m\u001b[0msqueeze\u001b[0m\u001b[0;34m(\u001b[0m\u001b[0;36m1\u001b[0m\u001b[0;34m)\u001b[0m\u001b[0;34m)\u001b[0m\u001b[0;34m\u001b[0m\u001b[0;34m\u001b[0m\u001b[0m\n\u001b[1;32m     39\u001b[0m         \u001b[0moptimizer\u001b[0m\u001b[0;34m.\u001b[0m\u001b[0mzero_grad\u001b[0m\u001b[0;34m(\u001b[0m\u001b[0;34m)\u001b[0m\u001b[0;34m\u001b[0m\u001b[0;34m\u001b[0m\u001b[0m\n\u001b[0;32m---> 40\u001b[0;31m         \u001b[0mloss\u001b[0m\u001b[0;34m.\u001b[0m\u001b[0mbackward\u001b[0m\u001b[0;34m(\u001b[0m\u001b[0;34m)\u001b[0m\u001b[0;34m\u001b[0m\u001b[0;34m\u001b[0m\u001b[0m\n\u001b[0m\u001b[1;32m     41\u001b[0m         \u001b[0;31m# torch.nn.utils.clip_grad_norm_(model.parameters(), max_norm=1)\u001b[0m\u001b[0;34m\u001b[0m\u001b[0;34m\u001b[0m\u001b[0;34m\u001b[0m\u001b[0m\n\u001b[1;32m     42\u001b[0m         \u001b[0moptimizer\u001b[0m\u001b[0;34m.\u001b[0m\u001b[0mstep\u001b[0m\u001b[0;34m(\u001b[0m\u001b[0;34m)\u001b[0m\u001b[0;34m\u001b[0m\u001b[0;34m\u001b[0m\u001b[0m\n",
            "\u001b[0;32m/usr/local/lib/python3.7/dist-packages/torch/_tensor.py\u001b[0m in \u001b[0;36mbackward\u001b[0;34m(self, gradient, retain_graph, create_graph, inputs)\u001b[0m\n\u001b[1;32m    253\u001b[0m                 \u001b[0mcreate_graph\u001b[0m\u001b[0;34m=\u001b[0m\u001b[0mcreate_graph\u001b[0m\u001b[0;34m,\u001b[0m\u001b[0;34m\u001b[0m\u001b[0;34m\u001b[0m\u001b[0m\n\u001b[1;32m    254\u001b[0m                 inputs=inputs)\n\u001b[0;32m--> 255\u001b[0;31m         \u001b[0mtorch\u001b[0m\u001b[0;34m.\u001b[0m\u001b[0mautograd\u001b[0m\u001b[0;34m.\u001b[0m\u001b[0mbackward\u001b[0m\u001b[0;34m(\u001b[0m\u001b[0mself\u001b[0m\u001b[0;34m,\u001b[0m \u001b[0mgradient\u001b[0m\u001b[0;34m,\u001b[0m \u001b[0mretain_graph\u001b[0m\u001b[0;34m,\u001b[0m \u001b[0mcreate_graph\u001b[0m\u001b[0;34m,\u001b[0m \u001b[0minputs\u001b[0m\u001b[0;34m=\u001b[0m\u001b[0minputs\u001b[0m\u001b[0;34m)\u001b[0m\u001b[0;34m\u001b[0m\u001b[0;34m\u001b[0m\u001b[0m\n\u001b[0m\u001b[1;32m    256\u001b[0m \u001b[0;34m\u001b[0m\u001b[0m\n\u001b[1;32m    257\u001b[0m     \u001b[0;32mdef\u001b[0m \u001b[0mregister_hook\u001b[0m\u001b[0;34m(\u001b[0m\u001b[0mself\u001b[0m\u001b[0;34m,\u001b[0m \u001b[0mhook\u001b[0m\u001b[0;34m)\u001b[0m\u001b[0;34m:\u001b[0m\u001b[0;34m\u001b[0m\u001b[0;34m\u001b[0m\u001b[0m\n",
            "\u001b[0;32m/usr/local/lib/python3.7/dist-packages/torch/autograd/__init__.py\u001b[0m in \u001b[0;36mbackward\u001b[0;34m(tensors, grad_tensors, retain_graph, create_graph, grad_variables, inputs)\u001b[0m\n\u001b[1;32m    147\u001b[0m     Variable._execution_engine.run_backward(\n\u001b[1;32m    148\u001b[0m         \u001b[0mtensors\u001b[0m\u001b[0;34m,\u001b[0m \u001b[0mgrad_tensors_\u001b[0m\u001b[0;34m,\u001b[0m \u001b[0mretain_graph\u001b[0m\u001b[0;34m,\u001b[0m \u001b[0mcreate_graph\u001b[0m\u001b[0;34m,\u001b[0m \u001b[0minputs\u001b[0m\u001b[0;34m,\u001b[0m\u001b[0;34m\u001b[0m\u001b[0;34m\u001b[0m\u001b[0m\n\u001b[0;32m--> 149\u001b[0;31m         allow_unreachable=True, accumulate_grad=True)  # allow_unreachable flag\n\u001b[0m\u001b[1;32m    150\u001b[0m \u001b[0;34m\u001b[0m\u001b[0m\n\u001b[1;32m    151\u001b[0m \u001b[0;34m\u001b[0m\u001b[0m\n",
            "\u001b[0;31mKeyboardInterrupt\u001b[0m: "
          ]
        }
      ]
    },
    {
      "cell_type": "code",
      "metadata": {
        "id": "vOHRlNk_qJK5"
      },
      "source": [
        "# loss = criterion(outputs, labels)\n",
        "for i, data in enumerate(train_loader, 0):\n",
        "    print(i,' ',len(data),'',data[0].shape,' ',data[1].shape)"
      ],
      "execution_count": null,
      "outputs": []
    },
    {
      "cell_type": "code",
      "metadata": {
        "id": "SrZTixDgZE7T",
        "colab": {
          "base_uri": "https://localhost:8080/"
        },
        "outputId": "d9fbf440-eb4e-4b46-ad55-94c8d22ab08f"
      },
      "source": [
        "_, predicted = torch.max(outputs.data, 1)\n",
        "print(predicted)\n",
        "print(labels.squeeze(1))"
      ],
      "execution_count": null,
      "outputs": [
        {
          "output_type": "stream",
          "text": [
            "tensor([21, 21, 15,  8, 15, 22, 12, 22,  8, 22, 11, 12, 22, 21, 12, 20, 12, 20,\n",
            "        10, 10, 22, 10, 22, 11,  8,  4, 21, 15,  8,  4, 20, 20],\n",
            "       device='cuda:0')\n",
            "tensor([ 5, 16, 17, 14, 21, 22, 13, 12,  3,  8, 21,  1,  4, 12,  3, 16, 20,  9,\n",
            "        18,  0, 12,  8,  1, 21,  8,  9,  5,  6, 19,  5, 19, 12],\n",
            "       device='cuda:0')\n"
          ],
          "name": "stdout"
        }
      ]
    },
    {
      "cell_type": "markdown",
      "metadata": {
        "id": "W4OKf9T1s6U3"
      },
      "source": [
        "# New section"
      ]
    },
    {
      "cell_type": "code",
      "metadata": {
        "id": "Ks4GAV0fWlbr"
      },
      "source": [
        "from scipy import signal\n",
        "import random\n",
        "import numpy as np\n",
        "import random\n",
        "import torch\n",
        "import torch.nn as nn\n",
        "from torch import optim\n",
        "from torch.utils.data import DataLoader, TensorDataset\n",
        "from torch.optim.lr_scheduler import ReduceLROnPlateau\n",
        "from sklearn.utils import class_weight\n",
        "from torch.autograd import Variable\n",
        "import torch.nn.functional as F"
      ],
      "execution_count": null,
      "outputs": []
    },
    {
      "cell_type": "code",
      "metadata": {
        "colab": {
          "base_uri": "https://localhost:8080/"
        },
        "id": "ZYTKr-TLtDsJ",
        "outputId": "2ee1e219-725c-4396-f9d6-dcbeb9b88101"
      },
      "source": [
        "sigPairList = []\n",
        "for i in range(0, 7):\n",
        "    sigPair = np.load('/content/drive/MyDrive/SSSL/npy/array'+str(i)+'.npy')\n",
        "    print(i,' ',sigPair.shape)\n",
        "    sigPairList.append(sigPair)"
      ],
      "execution_count": null,
      "outputs": [
        {
          "output_type": "stream",
          "text": [
            "0   (210, 23, 2, 16511)\n",
            "1   (236, 23, 2, 16511)\n",
            "2   (311, 23, 2, 16511)\n",
            "3   (294, 23, 2, 16511)\n",
            "4   (269, 23, 2, 16511)\n",
            "5   (269, 23, 2, 16511)\n"
          ],
          "name": "stdout"
        }
      ]
    },
    {
      "cell_type": "code",
      "metadata": {
        "id": "2_T3cwqDWF59"
      },
      "source": [
        "def cartesian2euler(val):\n",
        "    x = val.real\n",
        "    y = val.imag\n",
        "    \n",
        "    r = np.sqrt(x**2+y**2)\n",
        "\n",
        "    theta = np.arctan(\n",
        "        np.divide(y, x, where=x!=0)\n",
        "    )\n",
        "    # if x != 0:\n",
        "    #     theta = np.arctan(y/x)\n",
        "    # else:\n",
        "    #     theta = np.pi/2\n",
        "        \n",
        "    return normalise(r), normalise(theta)\n",
        "\n",
        "def calIPD(seqL, seqR):\n",
        "    temp = np.divide(seqL, seqR, out=np.zeros_like(seqL), where=seqR!=0)\n",
        "    ipd = np.arctan(np.divide(np.imag(temp), np.real(temp), out=np.zeros_like(np.real(temp)), where=np.real(temp)!=0))\n",
        "    return ipd\n",
        "\n",
        "def normalise(seq):\n",
        "    return seq/np.linalg.norm(seq)\n",
        "\n",
        "# method to generate a sequence of noise for a given SNR\n",
        "def noiseGenerator(sigSeq, valSNR):\n",
        "    # assert debug\n",
        "    # assert (\n",
        "    #     sigSeq.shape[0] == 1\n",
        "    # ), \"Input data needs to be reshaped to (1, length of sequence)\"\n",
        "\n",
        "    sigSeqPower = 10*np.log10(np.mean(np.power(sigSeq, 2)))\n",
        "    noisePower = np.power(10, (sigSeqPower - valSNR)/10)\n",
        "    return np.random.normal(0, np.sqrt(noisePower), sigSeq.shape)\n",
        "\n",
        "\n",
        "def binauralCues(sigPair, fs, valSNR=1):\n",
        "    f, t, Zxx = signal.stft(sigPair[0, 0, 0], fs, nperseg=1023)\n",
        "    cues = np.zeros(sigPair.shape[:-2] + (Zxx.shape[1], Zxx.shape[0]) + (5,), dtype='float')\n",
        "\n",
        "    del f, t, Zxx\n",
        "\n",
        "    for i in range(sigPair.shape[0]):\n",
        "        for locIndex in range(sigPair.shape[1]):\n",
        "            \n",
        "            f_l, t_l, Zxx_l = signal.stft(\n",
        "                sigPair[i, locIndex, 0] \n",
        "                + noiseGenerator(sigPair[i, locIndex, 0], valSNR)\n",
        "                , fs, nperseg = 1023\n",
        "            )              \n",
        "                                          \n",
        "            f_r, t_r, Zxx_r = signal.stft(\n",
        "                sigPair[i, locIndex, 1] \n",
        "                + noiseGenerator(sigPair[i, locIndex, 1], valSNR)\n",
        "                , fs, nperseg = 1023\n",
        "            )\n",
        "            # print(Zxx_l.shape)\n",
        "            # print(Zxx_r.shape)\n",
        "\n",
        "            r_l, theta_l = cartesian2euler(Zxx_l)\n",
        "            r_r, theta_r = cartesian2euler(Zxx_r)\n",
        "\n",
        "            cues[i, locIndex] = np.concatenate(\n",
        "                (np.expand_dims(\n",
        "                    normalise(np.transpose(calIPD(Zxx_l, Zxx_r), (1, 0))), axis=-1\n",
        "                    ),\n",
        "                 np.transpose(np.array([r_l, theta_l, r_r, theta_r]), (2, 1 ,0))\n",
        "                 ),\n",
        "                 axis=-1\n",
        "            )\n",
        "    return cues\n",
        "\n",
        "# class Trainer()\n",
        "#     def __init__(\n",
        "#         self,\n",
        "#         num_epochs = 100,\n",
        "#         learning_rate = 1e-4,\n",
        "#         batch_size = 32,\n",
        "#         early_epoch = 100,\n",
        "#         new_early_epoch = 0,\n",
        "#         new_val_loss = 0.0,\n",
        "#     ):\n",
        "\n",
        "def ModelTrainer(model, dataset_):\n",
        "    batch_size = 32\n",
        "    Ntrain = round(0.6*cues_.shape[0])\n",
        "    if Ntrain % batch_size == 1:\n",
        "        Ntrain -=1\n",
        "    Nvalid = round(0.2*cues_.shape[0])\n",
        "    if Nvalid % batch_size == 1:\n",
        "        Nvalid -=1\n",
        "    Ntest = cues_.shape[0] - Ntrain - Nvalid\n",
        "    if Ntest % batch_size == 1:\n",
        "        Ntest -=1\n",
        "    print(\"Dataset separation: \",Ntrain, Nvalid, Ntest)\n",
        "\n",
        "    train, valid, test = torch.utils.data.random_split(dataset_, [Ntrain, Nvalid, Ntest], generator=torch.Generator().manual_seed(42))\n",
        "    train_loader = DataLoader(dataset=train, batch_size=32, shuffle=True, num_workers=0)\n",
        "    valid_loader = DataLoader(dataset=valid, batch_size=32, shuffle=True, num_workers=0)\n",
        "\n",
        "    # training phase settings\n",
        "    num_epochs = 100\n",
        "    learning_rate = 1e-4\n",
        "    early_epoch = 100\n",
        "    new_early_epoch = 0\n",
        "    new_val_loss = 0.0\n",
        "\n",
        "    optimizer = optim.Adam(model.parameters(), lr=learning_rate)\n",
        "    scheduler = ReduceLROnPlateau(optimizer, 'min', factor=0.5, patience=20, verbose=True)\n",
        "    criterion = nn.CrossEntropyLoss()\n",
        "\n",
        "    for epoch in range(num_epochs):\n",
        "        print(\"\\nEpoch %d\" % (epoch + 1))\n",
        "        model.train()\n",
        "        sum_loss = 0.0\n",
        "        correct = 0.0\n",
        "        total = 0.0\n",
        "\n",
        "        for i, data in enumerate(train_loader, 0):\n",
        "            length = len(train_loader)\n",
        "            inputs, labels = data\n",
        "            inputs, labels = Variable(inputs).to(device), Variable(labels.long()).to(device)\n",
        "\n",
        "            outputs = model(inputs)\n",
        "\n",
        "            # print(\"Input shape: \",inputs.shape)\n",
        "            # print(\"Ouput shape: \", outputs.shape)\n",
        "            # print(\"Label shape: \", labels.shape)\n",
        "            loss = criterion(outputs, labels.squeeze(1))\n",
        "            optimizer.zero_grad()\n",
        "            loss.backward()\n",
        "            # torch.nn.utils.clip_grad_norm_(model.parameters(), max_norm=1)\n",
        "            optimizer.step()\n",
        "\n",
        "            sum_loss += loss.item()\n",
        "            _, predicted = torch.max(outputs.data, 1)\n",
        "            total += labels.size(0)\n",
        "            correct += predicted.eq(labels.squeeze(1).data).sum().item()\n",
        "        print(\"correct:\",correct)\n",
        "        print(\"total\",total)\n",
        "        print('Training Loss: %.04f | Training Acc: %.4f%% '\n",
        "            % (sum_loss / (i + 1), 100.0 * correct / total))\n",
        "        \n",
        "\n",
        "        val_loss = 0.0\n",
        "        val_correct = 0.0\n",
        "        val_total = 0.0\n",
        "\n",
        "        model.eval()\n",
        "        with torch.no_grad():\n",
        "            for i, data in enumerate(valid_loader, 0):\n",
        "                inputs, labels = data\n",
        "                inputs, labels = Variable(inputs).to(device), Variable(labels.long()).to(device)\n",
        "                \n",
        "                outputs = model(inputs)\n",
        "                val_loss = criterion(outputs, labels.squeeze(1))\n",
        "                _, predicted = torch.max(outputs.data, 1)\n",
        "                val_total += labels.size(0)\n",
        "                val_correct += predicted.eq(labels.squeeze(1).data).sum().item()\n",
        "            scheduler.step(val_loss)\n",
        "\n",
        "        print('Val_Loss: %.04f | Val_Acc: %.4f%% '\n",
        "            % (val_loss, 100.0 * val_correct / val_total))\n",
        "\n",
        "        if (100.0 * val_correct / val_total <= new_val_loss):\n",
        "            new_early_epoch += 1\n",
        "        else:\n",
        "            new_val_loss = 100.0 * val_correct / val_total\n",
        "            new_early_epoch = 0\n",
        "        if (new_early_epoch >= early_epoch):\n",
        "            break\n",
        "\n"
      ],
      "execution_count": null,
      "outputs": []
    },
    {
      "cell_type": "code",
      "metadata": {
        "id": "TNYy3GT2s-W7",
        "colab": {
          "base_uri": "https://localhost:8080/"
        },
        "outputId": "d73ddace-92af-427d-b273-4e41635cd68b"
      },
      "source": [
        "cuesList = []\n",
        "for i in range(0,2): # lenAudio = 7\n",
        "    sigPair = np.load('/content/drive/MyDrive/SSSL/npy/array'+str(i)+'.npy')\n",
        "    print(i,' ',sigPair.shape)\n",
        "\n",
        "    cues = binauralCues(sigPair, 16000, valSNR=10)\n",
        "    del sigPair\n",
        "    cuesList.append(cues)\n",
        "    # del cues\n",
        "\n",
        "cues = np.concatenate((cuesList[0], cuesList[1]),axis=0)\n",
        "# del cuesList\n",
        "\n",
        "# tensorisation\n",
        "cues_ = torch.from_numpy(cues.astype(np.float32))\n",
        "print(cues_.shape)\n",
        "Nloc = cues_.shape[1]\n",
        "labels = np.zeros((cues_.shape[0], cues_.shape[1], 1)).astype(np.long)\n",
        "for i in range(cues.shape[0]):\n",
        "    for j in range(cues.shape[1]):\n",
        "        labels[i,j] = j\n",
        "\n",
        "labels_ = torch.from_numpy(labels)\n",
        "\n",
        "cues_ = cues_.reshape(cues_.shape[0] * cues_.shape[1], cues_.shape[2], cues_.shape[3], cues_.shape[4])\n",
        "labels_ = labels_.reshape(labels_.shape[0] * labels_.shape[1], 1)\n",
        "\n",
        "print(\"cues shape: \",cues.shape)\n",
        "print(\"cues_ shape: \",cues_.shape)\n",
        "print(\"labels shape: \",labels.shape)\n",
        "print(\"labels_ shape: \",labels_.shape)\n",
        "\n",
        "del cues, labels\n",
        "# create tensorDataset\n",
        "dataset_ = TensorDataset(cues_, labels_)\n"
      ],
      "execution_count": null,
      "outputs": [
        {
          "output_type": "stream",
          "text": [
            "0   (210, 23, 2, 16511)\n",
            "1   (236, 23, 2, 16511)\n",
            "torch.Size([446, 23, 34, 512, 5])\n",
            "cues shape:  (446, 23, 34, 512, 5)\n",
            "cues_ shape:  torch.Size([10258, 34, 512, 5])\n",
            "labels shape:  (446, 23, 1)\n",
            "labels_ shape:  torch.Size([10258, 1])\n"
          ],
          "name": "stdout"
        }
      ]
    },
    {
      "cell_type": "code",
      "metadata": {
        "colab": {
          "base_uri": "https://localhost:8080/"
        },
        "id": "WbMnjy8Y3bFK",
        "outputId": "ac2ac889-2d5e-412f-da73-91a11e0d3e73"
      },
      "source": [
        "print(len(dataset_))\n",
        "# device = torch.device(\"cuda\" if torch.cuda.is_available() else \"cpu\")\n",
        "# model = SSSL(23, 34, 512, 6, 8, device, 4, 0, False).to(device)\n",
        "ModelTrainer(model, dataset_)"
      ],
      "execution_count": 70,
      "outputs": [
        {
          "output_type": "stream",
          "text": [
            "10258\n",
            "Dataset separation:  6155 2052 2051\n",
            "\n",
            "Epoch 1\n",
            "correct: 567.0\n",
            "total 6155.0\n",
            "Training Loss: 2.9467 | Training Acc: 9.2120% \n",
            "Val_Loss: 2.2521 | Val_Acc: 19.8343% \n",
            "\n",
            "Epoch 2\n",
            "correct: 1812.0\n",
            "total 6155.0\n",
            "Training Loss: 2.0225 | Training Acc: 29.4395% \n",
            "Val_Loss: 2.5116 | Val_Acc: 42.2027% \n",
            "\n",
            "Epoch 3\n",
            "correct: 3174.0\n",
            "total 6155.0\n",
            "Training Loss: 1.4571 | Training Acc: 51.5678% \n",
            "Val_Loss: 1.8043 | Val_Acc: 59.5517% \n",
            "\n",
            "Epoch 4\n",
            "correct: 4495.0\n",
            "total 6155.0\n",
            "Training Loss: 0.9188 | Training Acc: 73.0301% \n",
            "Val_Loss: 0.1134 | Val_Acc: 73.2943% \n",
            "\n",
            "Epoch 5\n",
            "correct: 5471.0\n",
            "total 6155.0\n",
            "Training Loss: 0.3986 | Training Acc: 88.8871% \n",
            "Val_Loss: 2.1925 | Val_Acc: 72.8070% \n",
            "\n",
            "Epoch 6\n",
            "correct: 5874.0\n",
            "total 6155.0\n",
            "Training Loss: 0.1737 | Training Acc: 95.4346% \n",
            "Val_Loss: 0.1352 | Val_Acc: 85.2339% \n",
            "\n",
            "Epoch 7\n",
            "correct: 6030.0\n",
            "total 6155.0\n",
            "Training Loss: 0.0861 | Training Acc: 97.9691% \n",
            "Val_Loss: 5.4375 | Val_Acc: 83.9669% \n",
            "\n",
            "Epoch 8\n",
            "correct: 6030.0\n",
            "total 6155.0\n",
            "Training Loss: 0.0798 | Training Acc: 97.9691% \n",
            "Val_Loss: 3.8917 | Val_Acc: 82.1637% \n",
            "\n",
            "Epoch 9\n",
            "correct: 6081.0\n",
            "total 6155.0\n",
            "Training Loss: 0.0538 | Training Acc: 98.7977% \n",
            "Val_Loss: 0.0251 | Val_Acc: 87.1832% \n",
            "\n",
            "Epoch 10\n",
            "correct: 6114.0\n",
            "total 6155.0\n",
            "Training Loss: 0.0302 | Training Acc: 99.3339% \n",
            "Val_Loss: 1.3365 | Val_Acc: 86.0136% \n",
            "\n",
            "Epoch 11\n",
            "correct: 6142.0\n",
            "total 6155.0\n",
            "Training Loss: 0.0174 | Training Acc: 99.7888% \n",
            "Val_Loss: 1.8829 | Val_Acc: 87.5244% \n",
            "\n",
            "Epoch 12\n",
            "correct: 6150.0\n",
            "total 6155.0\n",
            "Training Loss: 0.0061 | Training Acc: 99.9188% \n",
            "Val_Loss: 0.0933 | Val_Acc: 86.2086% \n",
            "\n",
            "Epoch 13\n",
            "correct: 6129.0\n",
            "total 6155.0\n",
            "Training Loss: 0.0178 | Training Acc: 99.5776% \n",
            "Val_Loss: 0.1908 | Val_Acc: 86.8421% \n",
            "\n",
            "Epoch 14\n",
            "correct: 6070.0\n",
            "total 6155.0\n",
            "Training Loss: 0.0542 | Training Acc: 98.6190% \n",
            "Val_Loss: 4.8479 | Val_Acc: 85.5750% \n",
            "\n",
            "Epoch 15\n",
            "correct: 6047.0\n",
            "total 6155.0\n",
            "Training Loss: 0.0686 | Training Acc: 98.2453% \n",
            "Val_Loss: 0.0378 | Val_Acc: 87.4269% \n",
            "\n",
            "Epoch 16\n",
            "correct: 6118.0\n",
            "total 6155.0\n",
            "Training Loss: 0.0240 | Training Acc: 99.3989% \n",
            "Val_Loss: 0.3452 | Val_Acc: 88.4990% \n",
            "\n",
            "Epoch 17\n",
            "correct: 6137.0\n",
            "total 6155.0\n",
            "Training Loss: 0.0120 | Training Acc: 99.7076% \n",
            "Val_Loss: 0.0116 | Val_Acc: 88.2066% \n",
            "\n",
            "Epoch 18\n",
            "correct: 6114.0\n",
            "total 6155.0\n",
            "Training Loss: 0.0261 | Training Acc: 99.3339% \n",
            "Val_Loss: 1.2570 | Val_Acc: 85.1852% \n",
            "\n",
            "Epoch 19\n",
            "correct: 6123.0\n",
            "total 6155.0\n",
            "Training Loss: 0.0212 | Training Acc: 99.4801% \n",
            "Val_Loss: 0.0051 | Val_Acc: 88.5478% \n",
            "\n",
            "Epoch 20\n",
            "correct: 6144.0\n",
            "total 6155.0\n",
            "Training Loss: 0.0095 | Training Acc: 99.8213% \n",
            "Val_Loss: 0.0010 | Val_Acc: 87.8168% \n",
            "\n",
            "Epoch 21\n",
            "correct: 6145.0\n",
            "total 6155.0\n",
            "Training Loss: 0.0082 | Training Acc: 99.8375% \n",
            "Val_Loss: 0.0876 | Val_Acc: 88.7914% \n",
            "\n",
            "Epoch 22\n",
            "correct: 6150.0\n",
            "total 6155.0\n",
            "Training Loss: 0.0059 | Training Acc: 99.9188% \n",
            "Val_Loss: 1.1040 | Val_Acc: 88.8402% \n",
            "\n",
            "Epoch 23\n",
            "correct: 6139.0\n",
            "total 6155.0\n",
            "Training Loss: 0.0134 | Training Acc: 99.7400% \n",
            "Val_Loss: 0.0000 | Val_Acc: 88.4990% \n",
            "\n",
            "Epoch 24\n",
            "correct: 6125.0\n",
            "total 6155.0\n",
            "Training Loss: 0.0229 | Training Acc: 99.5126% \n",
            "Val_Loss: 0.0094 | Val_Acc: 81.7251% \n",
            "\n",
            "Epoch 25\n",
            "correct: 6091.0\n",
            "total 6155.0\n",
            "Training Loss: 0.0321 | Training Acc: 98.9602% \n",
            "Val_Loss: 2.3477 | Val_Acc: 88.8402% \n",
            "\n",
            "Epoch 26\n",
            "correct: 6121.0\n",
            "total 6155.0\n",
            "Training Loss: 0.0240 | Training Acc: 99.4476% \n",
            "Val_Loss: 0.5235 | Val_Acc: 88.4016% \n",
            "\n",
            "Epoch 27\n",
            "correct: 6135.0\n",
            "total 6155.0\n",
            "Training Loss: 0.0165 | Training Acc: 99.6751% \n",
            "Val_Loss: 0.9081 | Val_Acc: 89.5224% \n",
            "\n",
            "Epoch 28\n",
            "correct: 6151.0\n",
            "total 6155.0\n",
            "Training Loss: 0.0043 | Training Acc: 99.9350% \n",
            "Val_Loss: 0.6514 | Val_Acc: 90.0097% \n",
            "\n",
            "Epoch 29\n",
            "correct: 6132.0\n",
            "total 6155.0\n",
            "Training Loss: 0.0172 | Training Acc: 99.6263% \n",
            "Val_Loss: 0.0021 | Val_Acc: 86.8421% \n",
            "\n",
            "Epoch 30\n",
            "correct: 6104.0\n",
            "total 6155.0\n",
            "Training Loss: 0.0290 | Training Acc: 99.1714% \n",
            "Val_Loss: 0.0407 | Val_Acc: 89.8148% \n",
            "\n",
            "Epoch 31\n",
            "correct: 6140.0\n",
            "total 6155.0\n",
            "Training Loss: 0.0105 | Training Acc: 99.7563% \n",
            "Val_Loss: 0.0001 | Val_Acc: 89.8148% \n",
            "\n",
            "Epoch 32\n",
            "correct: 6143.0\n",
            "total 6155.0\n",
            "Training Loss: 0.0089 | Training Acc: 99.8050% \n",
            "Val_Loss: 2.0472 | Val_Acc: 90.0585% \n",
            "\n",
            "Epoch 33\n",
            "correct: 6146.0\n",
            "total 6155.0\n",
            "Training Loss: 0.0074 | Training Acc: 99.8538% \n",
            "Val_Loss: 0.0142 | Val_Acc: 89.5712% \n",
            "\n",
            "Epoch 34\n",
            "correct: 6053.0\n",
            "total 6155.0\n",
            "Training Loss: 0.0588 | Training Acc: 98.3428% \n",
            "Val_Loss: 0.0142 | Val_Acc: 89.8635% \n",
            "\n",
            "Epoch 35\n",
            "correct: 6139.0\n",
            "total 6155.0\n",
            "Training Loss: 0.0120 | Training Acc: 99.7400% \n",
            "Val_Loss: 0.0024 | Val_Acc: 90.7407% \n",
            "\n",
            "Epoch 36\n",
            "correct: 6146.0\n",
            "total 6155.0\n",
            "Training Loss: 0.0079 | Training Acc: 99.8538% \n",
            "Val_Loss: 0.0011 | Val_Acc: 90.7407% \n",
            "\n",
            "Epoch 37\n",
            "correct: 6150.0\n",
            "total 6155.0\n",
            "Training Loss: 0.0072 | Training Acc: 99.9188% \n",
            "Val_Loss: 0.0012 | Val_Acc: 90.3996% \n",
            "\n",
            "Epoch 38\n",
            "correct: 6150.0\n",
            "total 6155.0\n",
            "Training Loss: 0.0025 | Training Acc: 99.9188% \n",
            "Val_Loss: 0.0001 | Val_Acc: 90.1559% \n",
            "\n",
            "Epoch 39\n",
            "correct: 6155.0\n",
            "total 6155.0\n",
            "Training Loss: 0.0005 | Training Acc: 100.0000% \n",
            "Val_Loss: 0.0002 | Val_Acc: 90.3996% \n",
            "\n",
            "Epoch 40\n",
            "correct: 6155.0\n",
            "total 6155.0\n",
            "Training Loss: 0.0002 | Training Acc: 100.0000% \n",
            "Val_Loss: 0.0000 | Val_Acc: 90.4971% \n",
            "\n",
            "Epoch 41\n",
            "correct: 6155.0\n",
            "total 6155.0\n",
            "Training Loss: 0.0001 | Training Acc: 100.0000% \n",
            "Val_Loss: 0.0221 | Val_Acc: 90.5945% \n",
            "\n",
            "Epoch 42\n",
            "correct: 6155.0\n",
            "total 6155.0\n",
            "Training Loss: 0.0001 | Training Acc: 100.0000% \n",
            "Val_Loss: 0.0000 | Val_Acc: 90.5945% \n",
            "\n",
            "Epoch 43\n",
            "correct: 6155.0\n",
            "total 6155.0\n",
            "Training Loss: 0.0001 | Training Acc: 100.0000% \n",
            "Val_Loss: 1.3604 | Val_Acc: 90.6433% \n",
            "\n",
            "Epoch 44\n",
            "correct: 6155.0\n",
            "total 6155.0\n",
            "Training Loss: 0.0001 | Training Acc: 100.0000% \n",
            "Val_Loss: 0.0057 | Val_Acc: 90.7895% \n",
            "\n",
            "Epoch 45\n",
            "correct: 6155.0\n",
            "total 6155.0\n",
            "Training Loss: 0.0001 | Training Acc: 100.0000% \n",
            "Val_Loss: 0.4133 | Val_Acc: 90.6433% \n",
            "\n",
            "Epoch 46\n",
            "correct: 6155.0\n",
            "total 6155.0\n",
            "Training Loss: 0.0001 | Training Acc: 100.0000% \n",
            "Val_Loss: 0.0086 | Val_Acc: 90.8382% \n",
            "\n",
            "Epoch 47\n",
            "correct: 6155.0\n",
            "total 6155.0\n",
            "Training Loss: 0.0000 | Training Acc: 100.0000% \n",
            "Val_Loss: 0.0001 | Val_Acc: 90.6433% \n",
            "\n",
            "Epoch 48\n",
            "correct: 6155.0\n",
            "total 6155.0\n",
            "Training Loss: 0.0000 | Training Acc: 100.0000% \n",
            "Val_Loss: 0.3636 | Val_Acc: 90.6433% \n",
            "\n",
            "Epoch 49\n",
            "correct: 6155.0\n",
            "total 6155.0\n",
            "Training Loss: 0.0000 | Training Acc: 100.0000% \n",
            "Val_Loss: 0.0000 | Val_Acc: 90.7407% \n",
            "\n",
            "Epoch 50\n",
            "correct: 6155.0\n",
            "total 6155.0\n",
            "Training Loss: 0.0000 | Training Acc: 100.0000% \n",
            "Val_Loss: 0.0204 | Val_Acc: 90.7407% \n",
            "\n",
            "Epoch 51\n",
            "correct: 6155.0\n",
            "total 6155.0\n",
            "Training Loss: 0.0000 | Training Acc: 100.0000% \n",
            "Val_Loss: 0.0017 | Val_Acc: 90.6920% \n",
            "\n",
            "Epoch 52\n",
            "correct: 6155.0\n",
            "total 6155.0\n",
            "Training Loss: 0.0000 | Training Acc: 100.0000% \n",
            "Val_Loss: 0.0086 | Val_Acc: 90.6920% \n",
            "\n",
            "Epoch 53\n",
            "correct: 6155.0\n",
            "total 6155.0\n",
            "Training Loss: 0.0000 | Training Acc: 100.0000% \n",
            "Val_Loss: 0.0001 | Val_Acc: 90.6920% \n",
            "\n",
            "Epoch 54\n",
            "correct: 6155.0\n",
            "total 6155.0\n",
            "Training Loss: 0.0000 | Training Acc: 100.0000% \n",
            "Val_Loss: 0.0000 | Val_Acc: 90.8869% \n",
            "\n",
            "Epoch 55\n",
            "correct: 6155.0\n",
            "total 6155.0\n",
            "Training Loss: 0.0000 | Training Acc: 100.0000% \n",
            "Val_Loss: 5.9578 | Val_Acc: 90.9844% \n",
            "\n",
            "Epoch 56\n",
            "correct: 6155.0\n",
            "total 6155.0\n",
            "Training Loss: 0.0000 | Training Acc: 100.0000% \n",
            "Val_Loss: 1.2641 | Val_Acc: 90.8869% \n",
            "\n",
            "Epoch 57\n",
            "correct: 6155.0\n",
            "total 6155.0\n",
            "Training Loss: 0.0000 | Training Acc: 100.0000% \n",
            "Val_Loss: 0.0070 | Val_Acc: 91.0819% \n",
            "\n",
            "Epoch 58\n",
            "correct: 6155.0\n",
            "total 6155.0\n",
            "Training Loss: 0.0000 | Training Acc: 100.0000% \n",
            "Val_Loss: 1.1148 | Val_Acc: 90.9844% \n",
            "\n",
            "Epoch 59\n",
            "correct: 6155.0\n",
            "total 6155.0\n",
            "Training Loss: 0.0000 | Training Acc: 100.0000% \n",
            "Val_Loss: 0.0010 | Val_Acc: 91.2281% \n",
            "\n",
            "Epoch 60\n",
            "correct: 6155.0\n",
            "total 6155.0\n",
            "Training Loss: 0.0000 | Training Acc: 100.0000% \n",
            "Val_Loss: 0.0074 | Val_Acc: 91.1793% \n",
            "\n",
            "Epoch 61\n",
            "correct: 6155.0\n",
            "total 6155.0\n",
            "Training Loss: 0.0000 | Training Acc: 100.0000% \n",
            "Val_Loss: 0.0004 | Val_Acc: 91.1306% \n",
            "\n",
            "Epoch 62\n",
            "correct: 6155.0\n",
            "total 6155.0\n",
            "Training Loss: 0.0000 | Training Acc: 100.0000% \n",
            "Val_Loss: 0.0000 | Val_Acc: 91.1306% \n",
            "\n",
            "Epoch 63\n",
            "correct: 6155.0\n",
            "total 6155.0\n",
            "Training Loss: 0.0000 | Training Acc: 100.0000% \n",
            "Val_Loss: 0.0043 | Val_Acc: 91.2281% \n",
            "\n",
            "Epoch 64\n",
            "correct: 6155.0\n",
            "total 6155.0\n",
            "Training Loss: 0.0000 | Training Acc: 100.0000% \n",
            "Val_Loss: 0.0013 | Val_Acc: 91.0331% \n",
            "\n",
            "Epoch 65\n",
            "correct: 6155.0\n",
            "total 6155.0\n",
            "Training Loss: 0.0000 | Training Acc: 100.0000% \n",
            "Val_Loss: 0.0000 | Val_Acc: 91.1306% \n",
            "\n",
            "Epoch 66\n",
            "correct: 6155.0\n",
            "total 6155.0\n",
            "Training Loss: 0.0000 | Training Acc: 100.0000% \n",
            "Val_Loss: 0.1093 | Val_Acc: 91.2768% \n",
            "\n",
            "Epoch 67\n",
            "correct: 6155.0\n",
            "total 6155.0\n",
            "Training Loss: 0.0000 | Training Acc: 100.0000% \n",
            "Val_Loss: 0.0588 | Val_Acc: 91.3743% \n",
            "\n",
            "Epoch 68\n",
            "correct: 6155.0\n",
            "total 6155.0\n",
            "Training Loss: 0.0000 | Training Acc: 100.0000% \n",
            "Val_Loss: 0.0000 | Val_Acc: 91.3255% \n",
            "\n",
            "Epoch 69\n",
            "correct: 6155.0\n",
            "total 6155.0\n",
            "Training Loss: 0.0000 | Training Acc: 100.0000% \n",
            "Val_Loss: 0.0000 | Val_Acc: 91.2281% \n",
            "\n",
            "Epoch 70\n",
            "correct: 6155.0\n",
            "total 6155.0\n",
            "Training Loss: 0.0000 | Training Acc: 100.0000% \n",
            "Val_Loss: 0.0602 | Val_Acc: 91.3743% \n",
            "\n",
            "Epoch 71\n",
            "correct: 6155.0\n",
            "total 6155.0\n",
            "Training Loss: 0.0000 | Training Acc: 100.0000% \n",
            "Val_Loss: 0.0015 | Val_Acc: 91.4230% \n",
            "\n",
            "Epoch 72\n",
            "correct: 6155.0\n",
            "total 6155.0\n",
            "Training Loss: 0.0000 | Training Acc: 100.0000% \n",
            "Val_Loss: 1.7437 | Val_Acc: 91.2768% \n",
            "\n",
            "Epoch 73\n",
            "correct: 6155.0\n",
            "total 6155.0\n",
            "Training Loss: 0.0000 | Training Acc: 100.0000% \n",
            "Val_Loss: 0.0091 | Val_Acc: 91.4230% \n",
            "\n",
            "Epoch 74\n",
            "correct: 6155.0\n",
            "total 6155.0\n",
            "Training Loss: 0.0000 | Training Acc: 100.0000% \n",
            "Val_Loss: 2.3866 | Val_Acc: 91.2281% \n",
            "\n",
            "Epoch 75\n",
            "correct: 6155.0\n",
            "total 6155.0\n",
            "Training Loss: 0.0000 | Training Acc: 100.0000% \n",
            "Val_Loss: 0.0002 | Val_Acc: 91.1793% \n",
            "\n",
            "Epoch 76\n",
            "correct: 6155.0\n",
            "total 6155.0\n",
            "Training Loss: 0.0000 | Training Acc: 100.0000% \n",
            "Val_Loss: 3.9678 | Val_Acc: 91.3743% \n",
            "\n",
            "Epoch 77\n",
            "correct: 6155.0\n",
            "total 6155.0\n",
            "Training Loss: 0.0000 | Training Acc: 100.0000% \n",
            "Val_Loss: 2.1482 | Val_Acc: 91.1793% \n",
            "\n",
            "Epoch 78\n",
            "correct: 6155.0\n",
            "total 6155.0\n",
            "Training Loss: 0.0000 | Training Acc: 100.0000% \n",
            "Val_Loss: 5.7740 | Val_Acc: 91.1306% \n",
            "\n",
            "Epoch 79\n",
            "correct: 6155.0\n",
            "total 6155.0\n",
            "Training Loss: 0.0000 | Training Acc: 100.0000% \n",
            "Val_Loss: 0.0000 | Val_Acc: 91.1793% \n",
            "\n",
            "Epoch 80\n",
            "correct: 6155.0\n",
            "total 6155.0\n",
            "Training Loss: 0.0000 | Training Acc: 100.0000% \n",
            "Val_Loss: 0.0000 | Val_Acc: 91.0819% \n",
            "\n",
            "Epoch 81\n",
            "correct: 6155.0\n",
            "total 6155.0\n",
            "Training Loss: 0.0000 | Training Acc: 100.0000% \n",
            "Val_Loss: 1.3397 | Val_Acc: 91.0331% \n",
            "\n",
            "Epoch 82\n",
            "correct: 6155.0\n",
            "total 6155.0\n",
            "Training Loss: 0.0000 | Training Acc: 100.0000% \n",
            "Val_Loss: 0.0000 | Val_Acc: 90.8382% \n",
            "\n",
            "Epoch 83\n",
            "correct: 6155.0\n",
            "total 6155.0\n",
            "Training Loss: 0.0000 | Training Acc: 100.0000% \n",
            "Val_Loss: 0.0003 | Val_Acc: 91.0331% \n",
            "\n",
            "Epoch 84\n",
            "correct: 6155.0\n",
            "total 6155.0\n",
            "Training Loss: 0.0000 | Training Acc: 100.0000% \n",
            "Val_Loss: 0.0182 | Val_Acc: 90.9844% \n",
            "\n",
            "Epoch 85\n",
            "correct: 6155.0\n",
            "total 6155.0\n",
            "Training Loss: 0.0000 | Training Acc: 100.0000% \n",
            "Val_Loss: 0.0181 | Val_Acc: 91.1306% \n",
            "\n",
            "Epoch 86\n",
            "correct: 6155.0\n",
            "total 6155.0\n",
            "Training Loss: 0.0000 | Training Acc: 100.0000% \n",
            "Epoch    86: reducing learning rate of group 0 to 5.0000e-05.\n",
            "Val_Loss: 0.0000 | Val_Acc: 90.9844% \n",
            "\n",
            "Epoch 87\n",
            "correct: 6155.0\n",
            "total 6155.0\n",
            "Training Loss: 0.0000 | Training Acc: 100.0000% \n",
            "Val_Loss: 0.0000 | Val_Acc: 90.9844% \n",
            "\n",
            "Epoch 88\n",
            "correct: 6155.0\n",
            "total 6155.0\n",
            "Training Loss: 0.0000 | Training Acc: 100.0000% \n",
            "Val_Loss: 0.0000 | Val_Acc: 90.9357% \n",
            "\n",
            "Epoch 89\n",
            "correct: 6155.0\n",
            "total 6155.0\n",
            "Training Loss: 0.0000 | Training Acc: 100.0000% \n",
            "Val_Loss: 0.0015 | Val_Acc: 91.0331% \n",
            "\n",
            "Epoch 90\n",
            "correct: 6155.0\n",
            "total 6155.0\n",
            "Training Loss: 0.0000 | Training Acc: 100.0000% \n",
            "Val_Loss: 5.7781 | Val_Acc: 90.8869% \n",
            "\n",
            "Epoch 91\n",
            "correct: 6155.0\n",
            "total 6155.0\n",
            "Training Loss: 0.0000 | Training Acc: 100.0000% \n",
            "Val_Loss: 0.0000 | Val_Acc: 90.9844% \n",
            "\n",
            "Epoch 92\n",
            "correct: 6155.0\n",
            "total 6155.0\n",
            "Training Loss: 0.0000 | Training Acc: 100.0000% \n",
            "Val_Loss: 0.0001 | Val_Acc: 91.2281% \n",
            "\n",
            "Epoch 93\n",
            "correct: 6155.0\n",
            "total 6155.0\n",
            "Training Loss: 0.0000 | Training Acc: 100.0000% \n",
            "Val_Loss: 0.0000 | Val_Acc: 91.0331% \n",
            "\n",
            "Epoch 94\n",
            "correct: 6155.0\n",
            "total 6155.0\n",
            "Training Loss: 0.0000 | Training Acc: 100.0000% \n",
            "Val_Loss: 3.4631 | Val_Acc: 90.7407% \n",
            "\n",
            "Epoch 95\n",
            "correct: 6155.0\n",
            "total 6155.0\n",
            "Training Loss: 0.0000 | Training Acc: 100.0000% \n",
            "Val_Loss: 0.0000 | Val_Acc: 90.7895% \n",
            "\n",
            "Epoch 96\n",
            "correct: 6155.0\n",
            "total 6155.0\n",
            "Training Loss: 0.0000 | Training Acc: 100.0000% \n",
            "Val_Loss: 21.4924 | Val_Acc: 90.8869% \n",
            "\n",
            "Epoch 97\n",
            "correct: 6155.0\n",
            "total 6155.0\n",
            "Training Loss: 0.0000 | Training Acc: 100.0000% \n",
            "Val_Loss: 0.0925 | Val_Acc: 90.9357% \n",
            "\n",
            "Epoch 98\n",
            "correct: 6155.0\n",
            "total 6155.0\n",
            "Training Loss: 0.0000 | Training Acc: 100.0000% \n",
            "Val_Loss: 7.7727 | Val_Acc: 90.6920% \n",
            "\n",
            "Epoch 99\n",
            "correct: 6155.0\n",
            "total 6155.0\n",
            "Training Loss: 0.0000 | Training Acc: 100.0000% \n",
            "Val_Loss: 0.0000 | Val_Acc: 90.8869% \n",
            "\n",
            "Epoch 100\n",
            "correct: 6155.0\n",
            "total 6155.0\n",
            "Training Loss: 0.0000 | Training Acc: 100.0000% \n",
            "Val_Loss: 0.0000 | Val_Acc: 90.9844% \n"
          ],
          "name": "stdout"
        }
      ]
    }
  ]
}