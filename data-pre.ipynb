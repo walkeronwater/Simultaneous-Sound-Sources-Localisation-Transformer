{
 "cells": [
  {
   "cell_type": "markdown",
   "metadata": {},
   "source": [
    "### Set directories"
   ]
  },
  {
   "cell_type": "code",
   "execution_count": 1,
   "metadata": {},
   "outputs": [
    {
     "name": "stdout",
     "output_type": "stream",
     "text": [
      "C:\\Users\\mynam\\Documents\\GitHub\\Simultaneous-Sound-Localisation-Transformer\n",
      "C:\\Users\\mynam\\Documents\\GitHub\\Simultaneous-Sound-Localisation-Transformer\\HRTF\\IRC_1002\n",
      "51\n",
      "re.compile('IRC_\\\\d{4,4}')\n",
      "[1002, 1003, 1004, 1005, 1006, 1007, 1008, 1009, 1012, 1013, 1014, 1015, 1016, 1017, 1018, 1020, 1021, 1022, 1023, 1025, 1026, 1028, 1029, 1030, 1031, 1032, 1033, 1034, 1037, 1038, 1039, 1040, 1041, 1042, 1043, 1044, 1045, 1046, 1047, 1048, 1049, 1050, 1051, 1052, 1053, 1054, 1055, 1056, 1057, 1058, 1059]\n"
     ]
    }
   ],
   "source": [
    "import os\n",
    "import re\n",
    "from glob import glob\n",
    "basedir = os.getcwd()\n",
    "print(basedir)\n",
    "\n",
    "names = []\n",
    "names += glob(os.path.join(basedir, 'HRTF/IRC_*'))\n",
    "print(names[0])\n",
    "\n",
    "splitnames = [os.path.split(name) for name in names]\n",
    "print(len(splitnames))\n",
    "\n",
    "p = re.compile('IRC_\\d{4,4}')\n",
    "print(p)\n",
    "\n",
    "subjects = [int(name[4:8]) for base, name in splitnames \n",
    "                         if not (p.match(name[-8:]) is None)]\n",
    "print(subjects)"
   ]
  },
  {
   "cell_type": "markdown",
   "metadata": {},
   "source": [
    "### load data from .mat files"
   ]
  },
  {
   "cell_type": "code",
   "execution_count": 2,
   "metadata": {},
   "outputs": [],
   "source": [
    "from scipy.io import loadmat\n",
    "\n",
    "k=0\n",
    "subject=subjects[k]\n",
    "\n",
    "for k in range(len(names)):\n",
    "    subject=subjects[k]\n",
    "    # filename = os.path.join(names[k], 'IRC_' + str(subject))\n",
    "    filename = os.path.join(names[k], 'COMPENSATED/MAT/HRIR/IRC_' + str(subject) + '_C_HRIR.mat')\n",
    "#     print(filename)"
   ]
  },
  {
   "cell_type": "markdown",
   "metadata": {},
   "source": [
    "### Create labels (azimuth, elevation)"
   ]
  },
  {
   "cell_type": "code",
   "execution_count": 3,
   "metadata": {},
   "outputs": [
    {
     "name": "stdout",
     "output_type": "stream",
     "text": [
      "dict_keys(['__header__', '__version__', '__globals__', 'r_eq_hrir_S', 'l_eq_hrir_S'])\n",
      "(187, 2)\n",
      "(2, 187, 512)\n"
     ]
    },
    {
     "data": {
      "image/png": "[encoded data removed]",
      "text/plain": [
       "<Figure size 432x288 with 1 Axes>"
      ]
     },
     "metadata": {
      "needs_background": "light"
     },
     "output_type": "display_data"
    },
    {
     "data": {
      "image/png": "[encoded data removed]",
      "text/plain": [
       "<Figure size 432x288 with 1 Axes>"
      ]
     },
     "metadata": {
      "needs_background": "light"
     },
     "output_type": "display_data"
    }
   ],
   "source": [
    "import numpy as np\n",
    "import matplotlib.pyplot as plt \n",
    "\n",
    "m = loadmat(filename, struct_as_record=True)\n",
    "print(m.keys())\n",
    "\n",
    "l, r = m['l_eq_hrir_S'], m['r_eq_hrir_S']\n",
    "hrirSet_l = l['content_m'][0][0]\n",
    "hrirSet_r = r['content_m'][0][0]\n",
    "elev=l['elev_v'][0][0]\n",
    "azim=l['azim_v'][0][0]\n",
    "\n",
    "label = np.hstack((elev, azim))\n",
    "print(label.shape)\n",
    "\n",
    "# 0: left 1: right\n",
    "hrirSet = np.vstack((np.reshape(hrirSet_l, (1,) + hrirSet_l.shape),\n",
    "                          np.reshape(hrirSet_r, (1,) + hrirSet_r.shape)))\n",
    "print(hrirSet.shape)\n",
    "\n",
    "for i in range(51,53):\n",
    "    plt.plot(hrirSet[0, i, :])\n",
    "    plt.plot(hrirSet[1, i, :])\n",
    "    plt.legend(['left','right'], loc='best')\n",
    "    plt.title('elevation: '+str(label[i, 0])+' azimuth: '+str(label[i, 1]))\n",
    "    \n",
    "    plt.show()\n"
   ]
  },
  {
   "cell_type": "markdown",
   "metadata": {},
   "source": [
    "### Convolute audio signals with left-ear and right-ear HRIR"
   ]
  },
  {
   "cell_type": "code",
   "execution_count": 53,
   "metadata": {
    "scrolled": true
   },
   "outputs": [
    {
     "name": "stdout",
     "output_type": "stream",
     "text": [
      "C:\\Users\\mynam\\Documents\\GitHub\\Simultaneous-Sound-Localisation-Transformer\n",
      "['C:\\\\Users\\\\mynam\\\\Documents\\\\GitHub\\\\Simultaneous-Sound-Localisation-Transformer\\\\audio\\\\84-121123-0000.flac', 'C:\\\\Users\\\\mynam\\\\Documents\\\\GitHub\\\\Simultaneous-Sound-Localisation-Transformer\\\\audio\\\\84-121123-0001.flac']\n",
      "(33440,)\n",
      "(2, 187, 33951)\n",
      "(63840,)\n",
      "(2, 187, 64351)\n"
     ]
    },
    {
     "name": "stderr",
     "output_type": "stream",
     "text": [
      "<ipython-input-53-d4a34ca71dca>:41: VisibleDeprecationWarning: Creating an ndarray from ragged nested sequences (which is a list-or-tuple of lists-or-tuples-or ndarrays with different lengths or shapes) is deprecated. If you meant to do this, you must specify 'dtype=object' when creating the ndarray\n",
      "  test = np.array(test)\n"
     ]
    },
    {
     "ename": "ValueError",
     "evalue": "could not broadcast input array from shape (2,187,33951) into shape (2,187)",
     "output_type": "error",
     "traceback": [
      "\u001b[1;31m---------------------------------------------------------------------------\u001b[0m",
      "\u001b[1;31mValueError\u001b[0m                                Traceback (most recent call last)",
      "\u001b[1;32m<ipython-input-53-d4a34ca71dca>\u001b[0m in \u001b[0;36m<module>\u001b[1;34m\u001b[0m\n\u001b[0;32m     39\u001b[0m \u001b[1;31m# test=np.array([audioList[0],audioList[1]])\u001b[0m\u001b[1;33m\u001b[0m\u001b[1;33m\u001b[0m\u001b[1;33m\u001b[0m\u001b[0m\n\u001b[0;32m     40\u001b[0m \u001b[0mtest\u001b[0m \u001b[1;33m=\u001b[0m \u001b[1;33m[\u001b[0m\u001b[0maudioList\u001b[0m\u001b[1;33m[\u001b[0m\u001b[1;36m0\u001b[0m\u001b[1;33m]\u001b[0m\u001b[1;33m,\u001b[0m \u001b[0maudioList\u001b[0m\u001b[1;33m[\u001b[0m\u001b[1;36m1\u001b[0m\u001b[1;33m]\u001b[0m\u001b[1;33m]\u001b[0m\u001b[1;33m\u001b[0m\u001b[1;33m\u001b[0m\u001b[0m\n\u001b[1;32m---> 41\u001b[1;33m \u001b[0mtest\u001b[0m \u001b[1;33m=\u001b[0m \u001b[0mnp\u001b[0m\u001b[1;33m.\u001b[0m\u001b[0marray\u001b[0m\u001b[1;33m(\u001b[0m\u001b[0mtest\u001b[0m\u001b[1;33m)\u001b[0m\u001b[1;33m\u001b[0m\u001b[1;33m\u001b[0m\u001b[0m\n\u001b[0m\u001b[0;32m     42\u001b[0m \u001b[0mprint\u001b[0m\u001b[1;33m(\u001b[0m\u001b[0mtest\u001b[0m\u001b[1;33m.\u001b[0m\u001b[0mshape\u001b[0m\u001b[1;33m)\u001b[0m\u001b[1;33m\u001b[0m\u001b[1;33m\u001b[0m\u001b[0m\n",
      "\u001b[1;31mValueError\u001b[0m: could not broadcast input array from shape (2,187,33951) into shape (2,187)"
     ]
    },
    {
     "data": {
      "image/png": "[encoded data removed]",
      "text/plain": [
       "<Figure size 432x288 with 1 Axes>"
      ]
     },
     "metadata": {
      "needs_background": "light"
     },
     "output_type": "display_data"
    }
   ],
   "source": [
    "import soundfile as sf\n",
    "\n",
    "print(basedir)\n",
    "path = glob(os.path.join(basedir, 'audio/*'))\n",
    "print(path)\n",
    "\n",
    "audioIndex = -1\n",
    "audioList = []\n",
    "for audiopath in path:\n",
    "    audioIndex += 1\n",
    "    data, samplerate = sf.read(audiopath)\n",
    "    print(data.shape)\n",
    "\n",
    "    audio = data\n",
    "    sigSeq = np.zeros((hrirSet.shape[0], hrirSet.shape[1], hrirSet.shape[2]+audio.size-1))\n",
    "    print(sigSeq.shape)\n",
    "\n",
    "    # hrirSet is of shape (2, 187, 512)\n",
    "    for i in range(hrirSet.shape[1]):\n",
    "        left = np.convolve(audio, hrirSet[0][i])\n",
    "        right = np.convolve(audio, hrirSet[1][i])\n",
    "\n",
    "        left = left.reshape(1, left.shape[0])\n",
    "        right = right.reshape(1, right.shape[0])\n",
    "\n",
    "        sigSeq[0][i] = left\n",
    "        sigSeq[1][i] = right\n",
    "    \n",
    "    audioList.append(sigSeq)\n",
    "    \n",
    "#     plt.plot(data)\n",
    "#     plt.show()\n",
    "    \n",
    "sliced = 150\n",
    "plt.plot(audioList[0][0][sliced])\n",
    "plt.plot(audioList[0][1][sliced])\n",
    "# plt.show()\n",
    "\n",
    "# test=np.array([audioList[0],audioList[1]])\n",
    "test = [audioList[0], audioList[1]]\n",
    "test = np.array(test)\n",
    "print(test.shape)"
   ]
  },
  {
   "cell_type": "code",
   "execution_count": 49,
   "metadata": {},
   "outputs": [
    {
     "name": "stdout",
     "output_type": "stream",
     "text": [
      "(1, 2, 3)\n",
      "(1, 2, 2)\n"
     ]
    },
    {
     "ename": "ValueError",
     "evalue": "all the input array dimensions for the concatenation axis must match exactly, but along dimension 2, the array at index 0 has size 3 and the array at index 1 has size 2",
     "output_type": "error",
     "traceback": [
      "\u001b[1;31m---------------------------------------------------------------------------\u001b[0m",
      "\u001b[1;31mValueError\u001b[0m                                Traceback (most recent call last)",
      "\u001b[1;32m<ipython-input-49-b512af34d2f6>\u001b[0m in \u001b[0;36m<module>\u001b[1;34m\u001b[0m\n\u001b[0;32m      4\u001b[0m \u001b[0mb\u001b[0m \u001b[1;33m=\u001b[0m \u001b[0mnp\u001b[0m\u001b[1;33m.\u001b[0m\u001b[0marray\u001b[0m\u001b[1;33m(\u001b[0m\u001b[1;33m[\u001b[0m\u001b[1;33m[\u001b[0m\u001b[1;33m[\u001b[0m\u001b[1;36m2\u001b[0m\u001b[1;33m,\u001b[0m \u001b[1;36m2\u001b[0m\u001b[1;33m]\u001b[0m\u001b[1;33m,\u001b[0m \u001b[1;33m[\u001b[0m\u001b[1;36m2\u001b[0m\u001b[1;33m,\u001b[0m \u001b[1;36m2\u001b[0m\u001b[1;33m]\u001b[0m\u001b[1;33m]\u001b[0m\u001b[1;33m]\u001b[0m\u001b[1;33m)\u001b[0m\u001b[1;33m\u001b[0m\u001b[1;33m\u001b[0m\u001b[0m\n\u001b[0;32m      5\u001b[0m \u001b[0mprint\u001b[0m\u001b[1;33m(\u001b[0m\u001b[0mb\u001b[0m\u001b[1;33m.\u001b[0m\u001b[0mshape\u001b[0m\u001b[1;33m)\u001b[0m\u001b[1;33m\u001b[0m\u001b[1;33m\u001b[0m\u001b[0m\n\u001b[1;32m----> 6\u001b[1;33m \u001b[0mc\u001b[0m \u001b[1;33m=\u001b[0m \u001b[0mnp\u001b[0m\u001b[1;33m.\u001b[0m\u001b[0mconcatenate\u001b[0m\u001b[1;33m(\u001b[0m\u001b[1;33m[\u001b[0m\u001b[0ma\u001b[0m\u001b[1;33m,\u001b[0m \u001b[0mb\u001b[0m\u001b[1;33m]\u001b[0m\u001b[1;33m,\u001b[0m \u001b[0maxis\u001b[0m\u001b[1;33m=\u001b[0m\u001b[1;36m0\u001b[0m\u001b[1;33m)\u001b[0m\u001b[1;33m\u001b[0m\u001b[1;33m\u001b[0m\u001b[0m\n\u001b[0m\u001b[0;32m      7\u001b[0m \u001b[0mprint\u001b[0m\u001b[1;33m(\u001b[0m\u001b[0mc\u001b[0m\u001b[1;33m)\u001b[0m\u001b[1;33m\u001b[0m\u001b[1;33m\u001b[0m\u001b[0m\n\u001b[0;32m      8\u001b[0m \u001b[0mprint\u001b[0m\u001b[1;33m(\u001b[0m\u001b[0mc\u001b[0m\u001b[1;33m.\u001b[0m\u001b[0mshape\u001b[0m\u001b[1;33m)\u001b[0m\u001b[1;33m\u001b[0m\u001b[1;33m\u001b[0m\u001b[0m\n",
      "\u001b[1;32m<__array_function__ internals>\u001b[0m in \u001b[0;36mconcatenate\u001b[1;34m(*args, **kwargs)\u001b[0m\n",
      "\u001b[1;31mValueError\u001b[0m: all the input array dimensions for the concatenation axis must match exactly, but along dimension 2, the array at index 0 has size 3 and the array at index 1 has size 2"
     ]
    }
   ],
   "source": [
    "import numpy as np\n",
    "a = np.array([[[1, 1,1], [1, 1,1]]])\n",
    "print(a.shape)\n",
    "b = np.array([[[2, 2], [2, 2]]])\n",
    "print(b.shape)\n",
    "c = np.concatenate([a, b], axis=0)\n",
    "print(c)\n",
    "print(c.shape)"
   ]
  },
  {
   "cell_type": "markdown",
   "metadata": {},
   "source": [
    "### Load data from .wav files (discarded)"
   ]
  },
  {
   "cell_type": "code",
   "execution_count": 23,
   "metadata": {},
   "outputs": [],
   "source": [
    "import wave\n",
    "import numpy as np\n",
    "\n",
    "\n",
    "def _wav2array(nchannels, sampwidth, data):\n",
    "    \"\"\"data must be the string containing the bytes from the wav file.\"\"\"\n",
    "    num_samples, remainder = divmod(len(data), sampwidth * nchannels)\n",
    "    if remainder > 0:\n",
    "        raise ValueError('The length of data is not a multiple of '\n",
    "                         'sampwidth * num_channels.')\n",
    "    if sampwidth > 4:\n",
    "        raise ValueError(\"sampwidth must not be greater than 4.\")\n",
    "\n",
    "    if sampwidth == 3:\n",
    "        a = np.empty((num_samples, nchannels, 4), dtype=np.uint8)\n",
    "        raw_bytes = np.frombuffer(data, dtype=np.uint8)\n",
    "        a[:, :, :sampwidth] = raw_bytes.reshape(-1, nchannels, sampwidth)\n",
    "        a[:, :, sampwidth:] = (a[:, :, sampwidth - 1:sampwidth] >> 7) * 255\n",
    "        result = a.view('<i4').reshape(a.shape[:-1])\n",
    "    else:\n",
    "        # 8 bit samples are stored as unsigned ints; others as signed ints.\n",
    "        dt_char = 'u' if sampwidth == 1 else 'i'\n",
    "        a = np.frombuffer(data, dtype='<%s%d' % (dt_char, sampwidth))\n",
    "        result = a.reshape(-1, nchannels)\n",
    "    return result\n",
    "\n",
    "\n",
    "def readwav(file):\n",
    "    \"\"\"\n",
    "    Read a wav file.\n",
    "    Returns the frame rate, sample width (in bytes) and a numpy array\n",
    "    containing the data.\n",
    "    This function does not read compressed wav files.\n",
    "    \"\"\"\n",
    "    wav = wave.open(file)\n",
    "    rate = wav.getframerate()\n",
    "    nchannels = wav.getnchannels()\n",
    "    sampwidth = wav.getsampwidth()\n",
    "    nframes = wav.getnframes()\n",
    "    data = wav.readframes(nframes)\n",
    "    wav.close()\n",
    "    array = _wav2array(nchannels, sampwidth, data)\n",
    "    return rate, sampwidth, array\n",
    "\n",
    "\n",
    "def writewav24(filename, rate, data):\n",
    "    \"\"\"Create a 24 bit wav file.\n",
    "    data must be \"array-like\", either 1- or 2-dimensional.  If it is 2-d,\n",
    "    the rows are the frames (i.e. samples) and the columns are the channels.\n",
    "    The data is assumed to be signed, and the values are assumed to be\n",
    "    within the range of a 24 bit integer.  Floating point values are\n",
    "    converted to integers.  The data is not rescaled or normalized before\n",
    "    writing it to the file.\n",
    "    Example: Create a 3 second 440 Hz sine wave.\n",
    "    >>> rate = 22050  # samples per second\n",
    "    >>> T = 3         # sample duration (seconds)\n",
    "    >>> f = 440.0     # sound frequency (Hz)\n",
    "    >>> t = np.linspace(0, T, T*rate, endpoint=False)\n",
    "    >>> x = (2**23 - 1) * np.sin(2 * np.pi * f * t)\n",
    "    >>> writewav24(\"sine24.wav\", rate, x)\n",
    "    \"\"\"\n",
    "    a32 = np.asarray(data, dtype=np.int32)\n",
    "    if a32.ndim == 1:\n",
    "        # Convert to a 2D array with a single column.\n",
    "        a32.shape = a32.shape + (1,)\n",
    "    # By shifting first 0 bits, then 8, then 16, the resulting output\n",
    "    # is 24 bit little-endian.\n",
    "    a8 = (a32.reshape(a32.shape + (1,)) >> np.array([0, 8, 16])) & 255\n",
    "    wavdata = a8.astype(np.uint8).tostring()\n",
    "\n",
    "    w = wave.open(filename, 'wb')\n",
    "    w.setnchannels(a32.shape[1])\n",
    "    w.setsampwidth(3)\n",
    "    w.setframerate(rate)\n",
    "    w.writeframes(wavdata)\n",
    "    w.close()"
   ]
  },
  {
   "cell_type": "code",
   "execution_count": 28,
   "metadata": {},
   "outputs": [
    {
     "name": "stdout",
     "output_type": "stream",
     "text": [
      "44100 3 (8192, 2)\n",
      "-2976\n"
     ]
    }
   ],
   "source": [
    "from scipy.io import wavfile\n",
    "\n",
    "fs, sig, array = readwav('./HRTF/IRC_1002/RAW/WAV/IRC_1002_R/IRC_1002_R_R0195_T000_P000.wav')\n",
    "print(fs, sig, array.shape)\n",
    "print(array[0,0])"
   ]
  },
  {
   "cell_type": "code",
   "execution_count": 29,
   "metadata": {},
   "outputs": [
    {
     "data": {
      "image/png": "[encoded data removed]",
      "text/plain": [
       "<Figure size 432x288 with 1 Axes>"
      ]
     },
     "metadata": {
      "needs_background": "light"
     },
     "output_type": "display_data"
    }
   ],
   "source": [
    "import matplotlib.pyplot as plt \n",
    "\n",
    "plt.plot(array[:,0])\n",
    "plt.plot(array[:,1])\n",
    "plt.show()\n"
   ]
  },
  {
   "cell_type": "code",
   "execution_count": null,
   "metadata": {},
   "outputs": [],
   "source": []
  }
 ],
 "metadata": {
  "kernelspec": {
   "display_name": "Python 3",
   "language": "python",
   "name": "python3"
  },
  "language_info": {
   "codemirror_mode": {
    "name": "ipython",
    "version": 3
   },
   "file_extension": ".py",
   "mimetype": "text/x-python",
   "name": "python",
   "nbconvert_exporter": "python",
   "pygments_lexer": "ipython3",
   "version": "3.8.1"
  }
 },
 "nbformat": 4,
 "nbformat_minor": 4
}
