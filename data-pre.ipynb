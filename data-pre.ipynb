{
 "cells": [
  {
   "cell_type": "markdown",
   "metadata": {},
   "source": [
    "### Set directories"
   ]
  },
  {
   "cell_type": "code",
   "execution_count": 1,
   "metadata": {},
   "outputs": [
    {
     "name": "stdout",
     "output_type": "stream",
     "text": [
      "C:\\Users\\mynam\\Documents\\GitHub\\Simultaneous-Sound-Localisation-Transformer\n",
      "C:\\Users\\mynam\\Documents\\GitHub\\Simultaneous-Sound-Localisation-Transformer\\HRTF\\IRC_1002\n",
      "1\n",
      "re.compile('IRC_\\\\d{4,4}')\n",
      "[1002]\n"
     ]
    }
   ],
   "source": [
    "import os\n",
    "import re\n",
    "from glob import glob\n",
    "basedir = os.getcwd()\n",
    "print(basedir)\n",
    "\n",
    "names = []\n",
    "names += glob(os.path.join(basedir, 'HRTF/IRC_*'))\n",
    "print(names[0])\n",
    "\n",
    "splitnames = [os.path.split(name) for name in names]\n",
    "print(len(splitnames))\n",
    "\n",
    "p = re.compile('IRC_\\d{4,4}')\n",
    "print(p)\n",
    "\n",
    "subjects = [int(name[4:8]) for base, name in splitnames \n",
    "                         if not (p.match(name[-8:]) is None)]\n",
    "print(subjects)"
   ]
  },
  {
   "cell_type": "markdown",
   "metadata": {},
   "source": [
    "### load data from .mat files"
   ]
  },
  {
   "cell_type": "code",
   "execution_count": 2,
   "metadata": {},
   "outputs": [],
   "source": [
    "from scipy.io import loadmat\n",
    "\n",
    "k=0\n",
    "subject=subjects[k]\n",
    "\n",
    "for k in range(len(names)):\n",
    "    subject=subjects[k]\n",
    "    # filename = os.path.join(names[k], 'IRC_' + str(subject))\n",
    "    filename = os.path.join(names[k], 'COMPENSATED/MAT/HRIR/IRC_' + str(subject) + '_C_HRIR.mat')\n",
    "#     print(filename)"
   ]
  },
  {
   "cell_type": "markdown",
   "metadata": {},
   "source": [
    "### Create labels (azimuth, elevation)"
   ]
  },
  {
   "cell_type": "code",
   "execution_count": 3,
   "metadata": {},
   "outputs": [
    {
     "name": "stdout",
     "output_type": "stream",
     "text": [
      "dict_keys(['__header__', '__version__', '__globals__', 'r_eq_hrir_S', 'l_eq_hrir_S'])\n",
      "[('elev_v', 'O'), ('azim_v', 'O'), ('type_s', 'O'), ('sampling_hz', 'O'), ('content_m', 'O')]\n",
      "(187, 2)\n",
      "(2, 187, 512)\n"
     ]
    },
    {
     "data": {
      "image/png": "[encoded data removed]",
      "text/plain": [
       "<Figure size 432x288 with 1 Axes>"
      ]
     },
     "metadata": {
      "needs_background": "light"
     },
     "output_type": "display_data"
    },
    {
     "data": {
      "image/png": "[encoded data removed]",
      "text/plain": [
       "<Figure size 432x288 with 1 Axes>"
      ]
     },
     "metadata": {
      "needs_background": "light"
     },
     "output_type": "display_data"
    }
   ],
   "source": [
    "import numpy as np\n",
    "import matplotlib.pyplot as plt \n",
    "\n",
    "m = loadmat(filename, struct_as_record=True)\n",
    "print(m.keys())\n",
    "print(m['l_eq_hrir_S'].dtype)\n",
    "\n",
    "l, r = m['l_eq_hrir_S'], m['r_eq_hrir_S']\n",
    "hrirSet_l = l['content_m'][0][0]\n",
    "hrirSet_r = r['content_m'][0][0]\n",
    "elev=l['elev_v'][0][0]\n",
    "azim=l['azim_v'][0][0]\n",
    "\n",
    "label = np.hstack((elev, azim))\n",
    "print(label.shape)\n",
    "\n",
    "# 0: left 1: right\n",
    "hrirSet = np.vstack((np.reshape(hrirSet_l, (1,) + hrirSet_l.shape),\n",
    "                          np.reshape(hrirSet_r, (1,) + hrirSet_r.shape)))\n",
    "print(hrirSet.shape)\n",
    "\n",
    "for i in range(51,53):\n",
    "    plt.plot(hrirSet[0, i, :])\n",
    "    plt.plot(hrirSet[1, i, :])\n",
    "    plt.legend(['left','right'], loc='best')\n",
    "    plt.title('elevation: '+str(label[i, 0])+' azimuth: '+str(label[i, 1]))\n",
    "    \n",
    "    plt.show()\n"
   ]
  },
  {
   "cell_type": "markdown",
   "metadata": {},
   "source": [
    "### Convolve audio signals with left-ear and right-ear HRIR\n",
    "\n",
    "Input:\n",
    "\n",
    "- mono-track audio signal\n",
    "\n",
    "Output:\n",
    "\n",
    "- left-ear and right-ear time sequence pairs"
   ]
  },
  {
   "cell_type": "code",
   "execution_count": 4,
   "metadata": {
    "scrolled": true
   },
   "outputs": [
    {
     "name": "stdout",
     "output_type": "stream",
     "text": [
      "C:\\Users\\mynam\\Documents\\GitHub\\Simultaneous-Sound-Localisation-Transformer\n",
      "['C:\\\\Users\\\\mynam\\\\Documents\\\\GitHub\\\\Simultaneous-Sound-Localisation-Transformer\\\\audio\\\\84-121123-0000.flac']\n",
      "(33440,)\n",
      "(2, 187, 33951)\n"
     ]
    }
   ],
   "source": [
    "import soundfile as sf\n",
    "\n",
    "print(basedir)\n",
    "path = glob(os.path.join(basedir, 'audio/*'))\n",
    "print(path)\n",
    "\n",
    "audioIndex = -1\n",
    "seqPairList = []\n",
    "for audiopath in path:\n",
    "    audioIndex += 1\n",
    "    data, samplerate = sf.read(audiopath)\n",
    "    print(data.shape)\n",
    "\n",
    "    audio = data\n",
    "    sigSeq = np.zeros((hrirSet.shape[0], hrirSet.shape[1], hrirSet.shape[2]+audio.size-1))\n",
    "    print(sigSeq.shape)\n",
    "\n",
    "    # hrirSet is of shape (2, 187, 512)\n",
    "    for i in range(hrirSet.shape[1]):\n",
    "        left = np.convolve(audio, hrirSet[0][i])\n",
    "        right = np.convolve(audio, hrirSet[1][i])\n",
    "\n",
    "        left = left.reshape(1, left.shape[0])\n",
    "        right = right.reshape(1, right.shape[0])\n",
    "\n",
    "        sigSeq[0][i] = left\n",
    "        sigSeq[1][i] = right\n",
    "    \n",
    "    seqPairList.append(sigSeq)\n"
   ]
  },
  {
   "cell_type": "code",
   "execution_count": 39,
   "metadata": {},
   "outputs": [
    {
     "data": {
      "image/png": "[encoded data removed]",
      "text/plain": [
       "<Figure size 432x288 with 1 Axes>"
      ]
     },
     "metadata": {
      "needs_background": "light"
     },
     "output_type": "display_data"
    }
   ],
   "source": [
    "import random\n",
    "    \n",
    "sliced = random.randint(0,186)\n",
    "plt.plot(seqPairList[0][0][sliced])\n",
    "plt.plot(seqPairList[0][1][sliced])\n",
    "plt.title('Time sequence pairs for '+str(sliced))\n",
    "plt.legend(['left','right'])\n",
    "plt.show()"
   ]
  },
  {
   "cell_type": "markdown",
   "metadata": {},
   "source": [
    "### Windowed FFT\n",
    "\n",
    "Input:\n",
    "\n",
    "- left-ear and right-ear time sequences\n",
    "\n",
    "Output:\n",
    "\n",
    "- left-ear and right-ear time-varying spectra\n",
    "\n"
   ]
  },
  {
   "cell_type": "code",
   "execution_count": 40,
   "metadata": {},
   "outputs": [
    {
     "name": "stdout",
     "output_type": "stream",
     "text": [
      "44100 Hz\n"
     ]
    },
    {
     "data": {
      "image/png": "[encoded data removed]",
      "text/plain": [
       "<Figure size 432x288 with 1 Axes>"
      ]
     },
     "metadata": {
      "needs_background": "light"
     },
     "output_type": "display_data"
    }
   ],
   "source": [
    "from scipy import signal\n",
    "\n",
    "fs = m['l_eq_hrir_S']['sampling_hz'][0][0][0][0]\n",
    "print(str(fs)+' Hz')\n",
    "\n",
    "f, t, Zxx = signal.stft(seqPairList[0][0][sliced], fs, nperseg=1000)\n",
    "\n",
    "plt.pcolormesh(t, f, np.abs(Zxx), shading='gouraud')\n",
    "plt.title('STFT Magnitude')\n",
    "plt.ylabel('Frequency [Hz]')\n",
    "plt.xlabel('Time [sec]')\n",
    "plt.show()"
   ]
  },
  {
   "cell_type": "code",
   "execution_count": 73,
   "metadata": {},
   "outputs": [],
   "source": [
    "def cartesian2euler(x, y):\n",
    "    r = np.sqrt(x**2+y**2)\n",
    "    if x != 0:\n",
    "        theta = np.arctan(y/x)\n",
    "    else:\n",
    "        theta=np.pi/2\n",
    "    return r, theta\n",
    "\n",
    "loc = []\n",
    "for seqPair in seqPairList:\n",
    "    spectralData = np.zeros((seqPair.shape[1],)+Zxx.shape+(4,))\n",
    "    \n",
    "    for i in range(seqPair.shape[1]):\n",
    "        f_l, t_l, Zxx_l = signal.stft(seqPair[0][i], fs, nperseg=1000)\n",
    "        f_r, t_r, Zxx_r = signal.stft(seqPair[1][i], fs, nperseg=1000)\n",
    "        \n",
    "        for j in range(Zxx.shape[0]):\n",
    "            for k in range(Zxx.shape[1]):\n",
    "                temp=[]\n",
    "                r_l, theta_l = cartesian2euler(Zxx_l[j][k].real, Zxx_l[j][k].imag)\n",
    "                r_r, theta_r = cartesian2euler(Zxx_r[j][k].real, Zxx_r[j][k].imag)\n",
    "                spectralData[i, j, k] = np.array([r_l, theta_l, r_r, theta_r])\n",
    "                \n",
    "#         data.append(spectralData)\n",
    "        \n",
    "        "
   ]
  },
  {
   "cell_type": "code",
   "execution_count": 74,
   "metadata": {},
   "outputs": [
    {
     "name": "stdout",
     "output_type": "stream",
     "text": [
      "501\n",
      "69\n",
      "(187, 501, 69, 4)\n"
     ]
    }
   ],
   "source": [
    "print(f_l.size)\n",
    "print(t_l.size)\n",
    "print(spectralData.shape)"
   ]
  },
  {
   "cell_type": "code",
   "execution_count": 72,
   "metadata": {},
   "outputs": [
    {
     "name": "stdout",
     "output_type": "stream",
     "text": [
      "(187, 501, 69, 4)\n"
     ]
    }
   ],
   "source": [
    "a = np.zeros((seqPair.shape[1],)+Zxx.shape+(4,))\n",
    "print(a.shape)"
   ]
  },
  {
   "cell_type": "markdown",
   "metadata": {},
   "source": [
    "### Feature extraction\n",
    "\n",
    "- IPD\n",
    "- ITD (ambiguous at high frequencies)\n",
    "- ILD\n",
    "- or just the spectrum"
   ]
  },
  {
   "cell_type": "code",
   "execution_count": null,
   "metadata": {},
   "outputs": [],
   "source": []
  },
  {
   "cell_type": "code",
   "execution_count": null,
   "metadata": {},
   "outputs": [],
   "source": []
  },
  {
   "cell_type": "code",
   "execution_count": null,
   "metadata": {},
   "outputs": [],
   "source": []
  },
  {
   "cell_type": "code",
   "execution_count": null,
   "metadata": {},
   "outputs": [],
   "source": []
  },
  {
   "cell_type": "code",
   "execution_count": null,
   "metadata": {},
   "outputs": [],
   "source": []
  },
  {
   "cell_type": "markdown",
   "metadata": {},
   "source": [
    "### Load data from .wav files (discarded)"
   ]
  },
  {
   "cell_type": "code",
   "execution_count": 23,
   "metadata": {},
   "outputs": [],
   "source": [
    "import wave\n",
    "import numpy as np\n",
    "\n",
    "\n",
    "def _wav2array(nchannels, sampwidth, data):\n",
    "    \"\"\"data must be the string containing the bytes from the wav file.\"\"\"\n",
    "    num_samples, remainder = divmod(len(data), sampwidth * nchannels)\n",
    "    if remainder > 0:\n",
    "        raise ValueError('The length of data is not a multiple of '\n",
    "                         'sampwidth * num_channels.')\n",
    "    if sampwidth > 4:\n",
    "        raise ValueError(\"sampwidth must not be greater than 4.\")\n",
    "\n",
    "    if sampwidth == 3:\n",
    "        a = np.empty((num_samples, nchannels, 4), dtype=np.uint8)\n",
    "        raw_bytes = np.frombuffer(data, dtype=np.uint8)\n",
    "        a[:, :, :sampwidth] = raw_bytes.reshape(-1, nchannels, sampwidth)\n",
    "        a[:, :, sampwidth:] = (a[:, :, sampwidth - 1:sampwidth] >> 7) * 255\n",
    "        result = a.view('<i4').reshape(a.shape[:-1])\n",
    "    else:\n",
    "        # 8 bit samples are stored as unsigned ints; others as signed ints.\n",
    "        dt_char = 'u' if sampwidth == 1 else 'i'\n",
    "        a = np.frombuffer(data, dtype='<%s%d' % (dt_char, sampwidth))\n",
    "        result = a.reshape(-1, nchannels)\n",
    "    return result\n",
    "\n",
    "\n",
    "def readwav(file):\n",
    "    \"\"\"\n",
    "    Read a wav file.\n",
    "    Returns the frame rate, sample width (in bytes) and a numpy array\n",
    "    containing the data.\n",
    "    This function does not read compressed wav files.\n",
    "    \"\"\"\n",
    "    wav = wave.open(file)\n",
    "    rate = wav.getframerate()\n",
    "    nchannels = wav.getnchannels()\n",
    "    sampwidth = wav.getsampwidth()\n",
    "    nframes = wav.getnframes()\n",
    "    data = wav.readframes(nframes)\n",
    "    wav.close()\n",
    "    array = _wav2array(nchannels, sampwidth, data)\n",
    "    return rate, sampwidth, array\n",
    "\n",
    "\n",
    "def writewav24(filename, rate, data):\n",
    "    \"\"\"Create a 24 bit wav file.\n",
    "    data must be \"array-like\", either 1- or 2-dimensional.  If it is 2-d,\n",
    "    the rows are the frames (i.e. samples) and the columns are the channels.\n",
    "    The data is assumed to be signed, and the values are assumed to be\n",
    "    within the range of a 24 bit integer.  Floating point values are\n",
    "    converted to integers.  The data is not rescaled or normalized before\n",
    "    writing it to the file.\n",
    "    Example: Create a 3 second 440 Hz sine wave.\n",
    "    >>> rate = 22050  # samples per second\n",
    "    >>> T = 3         # sample duration (seconds)\n",
    "    >>> f = 440.0     # sound frequency (Hz)\n",
    "    >>> t = np.linspace(0, T, T*rate, endpoint=False)\n",
    "    >>> x = (2**23 - 1) * np.sin(2 * np.pi * f * t)\n",
    "    >>> writewav24(\"sine24.wav\", rate, x)\n",
    "    \"\"\"\n",
    "    a32 = np.asarray(data, dtype=np.int32)\n",
    "    if a32.ndim == 1:\n",
    "        # Convert to a 2D array with a single column.\n",
    "        a32.shape = a32.shape + (1,)\n",
    "    # By shifting first 0 bits, then 8, then 16, the resulting output\n",
    "    # is 24 bit little-endian.\n",
    "    a8 = (a32.reshape(a32.shape + (1,)) >> np.array([0, 8, 16])) & 255\n",
    "    wavdata = a8.astype(np.uint8).tostring()\n",
    "\n",
    "    w = wave.open(filename, 'wb')\n",
    "    w.setnchannels(a32.shape[1])\n",
    "    w.setsampwidth(3)\n",
    "    w.setframerate(rate)\n",
    "    w.writeframes(wavdata)\n",
    "    w.close()"
   ]
  },
  {
   "cell_type": "code",
   "execution_count": 28,
   "metadata": {},
   "outputs": [
    {
     "name": "stdout",
     "output_type": "stream",
     "text": [
      "44100 3 (8192, 2)\n",
      "-2976\n"
     ]
    }
   ],
   "source": [
    "from scipy.io import wavfile\n",
    "\n",
    "fs, sig, array = readwav('./HRTF/IRC_1002/RAW/WAV/IRC_1002_R/IRC_1002_R_R0195_T000_P000.wav')\n",
    "print(fs, sig, array.shape)\n",
    "print(array[0,0])"
   ]
  },
  {
   "cell_type": "code",
   "execution_count": 29,
   "metadata": {},
   "outputs": [
    {
     "data": {
      "image/png": "[encoded data removed]",
      "text/plain": [
       "<Figure size 432x288 with 1 Axes>"
      ]
     },
     "metadata": {
      "needs_background": "light"
     },
     "output_type": "display_data"
    }
   ],
   "source": [
    "import matplotlib.pyplot as plt \n",
    "\n",
    "plt.plot(array[:,0])\n",
    "plt.plot(array[:,1])\n",
    "plt.show()\n"
   ]
  },
  {
   "cell_type": "code",
   "execution_count": null,
   "metadata": {},
   "outputs": [],
   "source": []
  }
 ],
 "metadata": {
  "kernelspec": {
   "display_name": "Python 3",
   "language": "python",
   "name": "python3"
  },
  "language_info": {
   "codemirror_mode": {
    "name": "ipython",
    "version": 3
   },
   "file_extension": ".py",
   "mimetype": "text/x-python",
   "name": "python",
   "nbconvert_exporter": "python",
   "pygments_lexer": "ipython3",
   "version": "3.8.1"
  }
 },
 "nbformat": 4,
 "nbformat_minor": 4
}
